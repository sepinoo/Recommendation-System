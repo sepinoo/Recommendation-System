{
 "cells": [
  {
   "cell_type": "markdown",
   "metadata": {
    "id": "0vJOdh9WbTpd"
   },
   "source": [
    "# نصب پکیج های مورد نیاز"
   ]
  },
  {
   "cell_type": "code",
   "execution_count": null,
   "metadata": {},
   "outputs": [],
   "source": [
    "!pip install -q tensorflow-recommenders\n",
    "!pip install -q --upgrade tensorflow-datasets\n",
    "!pip install -q scann"
   ]
  },
  {
   "cell_type": "markdown",
   "metadata": {},
   "source": [
    "# ایمپورت کتابخانه ها و توابع مورد نیاز"
   ]
  },
  {
   "cell_type": "code",
   "execution_count": 21,
   "metadata": {},
   "outputs": [],
   "source": [
    "import os\n",
    "import pprint\n",
    "import tempfile\n",
    "\n",
    "from typing import Dict, Text\n",
    "\n",
    "import numpy as np\n",
    "import tensorflow as tf\n",
    "import tensorflow_datasets as tfds"
   ]
  },
  {
   "cell_type": "code",
   "execution_count": 22,
   "metadata": {
    "tags": []
   },
   "outputs": [],
   "source": [
    "import tensorflow_recommenders as tfrs\n",
    "import pandas as pd\n",
    "import numpy as np\n",
    "import tensorflow as tf\n"
   ]
  },
  {
   "cell_type": "code",
   "execution_count": null,
   "metadata": {},
   "outputs": [],
   "source": []
  },
  {
   "cell_type": "markdown",
   "metadata": {},
   "source": [
    "# اتصال به پایگاه داده و گرفتن دیتا"
   ]
  },
  {
   "cell_type": "code",
   "execution_count": 24,
   "metadata": {},
   "outputs": [],
   "source": [
    "import pyodbc\n",
    "\n",
    "conn = pyodbc.connect(\n",
    "        'DRIVER=ODBC Driver 17 for SQL Server;SERVER=GWH,1433;DATABASE=golestanml_test;UID=GC-Rezaie_ai;PWD=R3z@!e123;')"
   ]
  },
  {
   "cell_type": "code",
   "execution_count": 25,
   "metadata": {},
   "outputs": [
    {
     "name": "stderr",
     "output_type": "stream",
     "text": [
      "/usr/local/lib/python3.9/dist-packages/pandas/io/sql.py:761: UserWarning: pandas only support SQLAlchemy connectable(engine/connection) ordatabase string URI or sqlite3 DBAPI2 connectionother DBAPI2 objects are not tested, please consider using SQLAlchemy\n",
      "  warnings.warn(\n"
     ]
    }
   ],
   "source": [
    "sql_clause = \"\"\"SELECT\n",
    "        dc.CustomerBk,\n",
    "        f.Order_Date,\n",
    "        f.Product_Code,\n",
    "        dc.CityBk,\n",
    "        dc.AreaBk,\n",
    "        dc.CustomerTypeBk,\n",
    "        dc.OfficeBk,\n",
    "        ci.CityTitle,\n",
    "        so.Actived,\n",
    "        dc.LastCustomerClassBk,\n",
    "        dc.DistPathCode\n",
    "FROM [DWAI].[Sale].[FactV4] f (NOLOCK)\n",
    "JOIN [DWAI].[Sale].[DimCustomer] dc ON f.CustomerCode = dc.CustomerBk\n",
    "JOIN [DWAI].[regional].[DimSaleOffice] so ON dc.OfficeBk = so.SaleOfficeBk\n",
    "JOIN [DWAI].[regional].[DimCity] ci on ci.CityBK = dc.CityBk\n",
    "WHERE Order_Date BETWEEN 13980630 AND 14010330\n",
    "AND f.CustomerCode IN (\n",
    "            SELECT\n",
    "                    dc.CustomerBk\n",
    "            FROM [DWAI].[Sale].[DimCustomer] dc\n",
    "            WHERE dc.DeactiveDate IS NULL\n",
    "            AND dc.CustomerBk IN (\n",
    "                    SELECT CustomerCode\n",
    "                    FROM [DWAI].[Sale].[FactV4]\n",
    "                )\n",
    ")\"\"\"\n",
    "\n",
    "a = pd.read_sql(sql_clause, conn)"
   ]
  },
  {
   "cell_type": "code",
   "execution_count": 26,
   "metadata": {},
   "outputs": [
    {
     "data": {
      "text/html": [
       "<div>\n",
       "<style scoped>\n",
       "    .dataframe tbody tr th:only-of-type {\n",
       "        vertical-align: middle;\n",
       "    }\n",
       "\n",
       "    .dataframe tbody tr th {\n",
       "        vertical-align: top;\n",
       "    }\n",
       "\n",
       "    .dataframe thead th {\n",
       "        text-align: right;\n",
       "    }\n",
       "</style>\n",
       "<table border=\"1\" class=\"dataframe\">\n",
       "  <thead>\n",
       "    <tr style=\"text-align: right;\">\n",
       "      <th></th>\n",
       "      <th>CustomerBk</th>\n",
       "      <th>Order_Date</th>\n",
       "      <th>Product_Code</th>\n",
       "      <th>CityBk</th>\n",
       "      <th>AreaBk</th>\n",
       "      <th>CustomerTypeBk</th>\n",
       "      <th>OfficeBk</th>\n",
       "      <th>CityTitle</th>\n",
       "      <th>Actived</th>\n",
       "      <th>LastCustomerClassBk</th>\n",
       "      <th>DistPathCode</th>\n",
       "    </tr>\n",
       "  </thead>\n",
       "  <tbody>\n",
       "    <tr>\n",
       "      <th>0</th>\n",
       "      <td>972442240</td>\n",
       "      <td>13980904</td>\n",
       "      <td>218</td>\n",
       "      <td>437</td>\n",
       "      <td>0</td>\n",
       "      <td>37</td>\n",
       "      <td>325</td>\n",
       "      <td>ملك شهر</td>\n",
       "      <td>True</td>\n",
       "      <td>0</td>\n",
       "      <td>0</td>\n",
       "    </tr>\n",
       "    <tr>\n",
       "      <th>1</th>\n",
       "      <td>292034224</td>\n",
       "      <td>13980904</td>\n",
       "      <td>381</td>\n",
       "      <td>149</td>\n",
       "      <td>0</td>\n",
       "      <td>37</td>\n",
       "      <td>995</td>\n",
       "      <td>ايلام</td>\n",
       "      <td>True</td>\n",
       "      <td>100</td>\n",
       "      <td>1</td>\n",
       "    </tr>\n",
       "    <tr>\n",
       "      <th>2</th>\n",
       "      <td>959503144</td>\n",
       "      <td>13980904</td>\n",
       "      <td>275</td>\n",
       "      <td>112</td>\n",
       "      <td>0</td>\n",
       "      <td>37</td>\n",
       "      <td>959</td>\n",
       "      <td>تهران</td>\n",
       "      <td>True</td>\n",
       "      <td>300</td>\n",
       "      <td>0</td>\n",
       "    </tr>\n",
       "    <tr>\n",
       "      <th>3</th>\n",
       "      <td>959503144</td>\n",
       "      <td>13980904</td>\n",
       "      <td>278</td>\n",
       "      <td>112</td>\n",
       "      <td>0</td>\n",
       "      <td>37</td>\n",
       "      <td>959</td>\n",
       "      <td>تهران</td>\n",
       "      <td>True</td>\n",
       "      <td>300</td>\n",
       "      <td>0</td>\n",
       "    </tr>\n",
       "    <tr>\n",
       "      <th>4</th>\n",
       "      <td>970301938</td>\n",
       "      <td>13980924</td>\n",
       "      <td>207</td>\n",
       "      <td>547</td>\n",
       "      <td>0</td>\n",
       "      <td>37</td>\n",
       "      <td>970</td>\n",
       "      <td>قشم</td>\n",
       "      <td>True</td>\n",
       "      <td>-10</td>\n",
       "      <td>0</td>\n",
       "    </tr>\n",
       "    <tr>\n",
       "      <th>...</th>\n",
       "      <td>...</td>\n",
       "      <td>...</td>\n",
       "      <td>...</td>\n",
       "      <td>...</td>\n",
       "      <td>...</td>\n",
       "      <td>...</td>\n",
       "      <td>...</td>\n",
       "      <td>...</td>\n",
       "      <td>...</td>\n",
       "      <td>...</td>\n",
       "      <td>...</td>\n",
       "    </tr>\n",
       "    <tr>\n",
       "      <th>9257796</th>\n",
       "      <td>171060689</td>\n",
       "      <td>14000116</td>\n",
       "      <td>1571</td>\n",
       "      <td>1047</td>\n",
       "      <td>0</td>\n",
       "      <td>37</td>\n",
       "      <td>290</td>\n",
       "      <td>ماكو</td>\n",
       "      <td>True</td>\n",
       "      <td>0</td>\n",
       "      <td>8</td>\n",
       "    </tr>\n",
       "    <tr>\n",
       "      <th>9257797</th>\n",
       "      <td>608005438</td>\n",
       "      <td>14000116</td>\n",
       "      <td>1571</td>\n",
       "      <td>112</td>\n",
       "      <td>334</td>\n",
       "      <td>9</td>\n",
       "      <td>902</td>\n",
       "      <td>تهران</td>\n",
       "      <td>True</td>\n",
       "      <td>100</td>\n",
       "      <td>24</td>\n",
       "    </tr>\n",
       "    <tr>\n",
       "      <th>9257798</th>\n",
       "      <td>222442878</td>\n",
       "      <td>14000116</td>\n",
       "      <td>1576</td>\n",
       "      <td>128</td>\n",
       "      <td>0</td>\n",
       "      <td>37</td>\n",
       "      <td>159</td>\n",
       "      <td>يزد</td>\n",
       "      <td>True</td>\n",
       "      <td>300</td>\n",
       "      <td>0</td>\n",
       "    </tr>\n",
       "    <tr>\n",
       "      <th>9257799</th>\n",
       "      <td>220443923</td>\n",
       "      <td>14000116</td>\n",
       "      <td>1576</td>\n",
       "      <td>127</td>\n",
       "      <td>0</td>\n",
       "      <td>37</td>\n",
       "      <td>220</td>\n",
       "      <td>ياسوج</td>\n",
       "      <td>True</td>\n",
       "      <td>300</td>\n",
       "      <td>0</td>\n",
       "    </tr>\n",
       "    <tr>\n",
       "      <th>9257800</th>\n",
       "      <td>956560505</td>\n",
       "      <td>14000116</td>\n",
       "      <td>1591</td>\n",
       "      <td>131</td>\n",
       "      <td>0</td>\n",
       "      <td>37</td>\n",
       "      <td>150</td>\n",
       "      <td>رودهن</td>\n",
       "      <td>True</td>\n",
       "      <td>300</td>\n",
       "      <td>0</td>\n",
       "    </tr>\n",
       "  </tbody>\n",
       "</table>\n",
       "<p>9257801 rows × 11 columns</p>\n",
       "</div>"
      ],
      "text/plain": [
       "         CustomerBk  Order_Date  Product_Code  CityBk  AreaBk  CustomerTypeBk  \\\n",
       "0         972442240    13980904           218     437       0              37   \n",
       "1         292034224    13980904           381     149       0              37   \n",
       "2         959503144    13980904           275     112       0              37   \n",
       "3         959503144    13980904           278     112       0              37   \n",
       "4         970301938    13980924           207     547       0              37   \n",
       "...             ...         ...           ...     ...     ...             ...   \n",
       "9257796   171060689    14000116          1571    1047       0              37   \n",
       "9257797   608005438    14000116          1571     112     334               9   \n",
       "9257798   222442878    14000116          1576     128       0              37   \n",
       "9257799   220443923    14000116          1576     127       0              37   \n",
       "9257800   956560505    14000116          1591     131       0              37   \n",
       "\n",
       "         OfficeBk CityTitle  Actived  LastCustomerClassBk  DistPathCode  \n",
       "0             325   ملك شهر     True                    0             0  \n",
       "1             995     ايلام     True                  100             1  \n",
       "2             959     تهران     True                  300             0  \n",
       "3             959     تهران     True                  300             0  \n",
       "4             970       قشم     True                  -10             0  \n",
       "...           ...       ...      ...                  ...           ...  \n",
       "9257796       290      ماكو     True                    0             8  \n",
       "9257797       902     تهران     True                  100            24  \n",
       "9257798       159       يزد     True                  300             0  \n",
       "9257799       220     ياسوج     True                  300             0  \n",
       "9257800       150     رودهن     True                  300             0  \n",
       "\n",
       "[9257801 rows x 11 columns]"
      ]
     },
     "execution_count": 26,
     "metadata": {},
     "output_type": "execute_result"
    }
   ],
   "source": [
    "a"
   ]
  },
  {
   "cell_type": "code",
   "execution_count": 27,
   "metadata": {},
   "outputs": [
    {
     "name": "stderr",
     "output_type": "stream",
     "text": [
      "/usr/local/lib/python3.9/dist-packages/pandas/io/sql.py:761: UserWarning: pandas only support SQLAlchemy connectable(engine/connection) ordatabase string URI or sqlite3 DBAPI2 connectionother DBAPI2 objects are not tested, please consider using SQLAlchemy\n",
      "  warnings.warn(\n"
     ]
    }
   ],
   "source": [
    "sql_clause = \"\"\"SELECT\n",
    "        dc.CustomerBk,\n",
    "        f.Order_Date,\n",
    "        f.Product_Code,\n",
    "        dc.CityBk,\n",
    "        dc.AreaBk,\n",
    "        dc.CustomerTypeBk,\n",
    "        dc.OfficeBk,\n",
    "        ci.CityTitle,\n",
    "        so.Actived,\n",
    "        dc.LastCustomerClassBk,\n",
    "        dc.DistPathCode\n",
    "FROM [DWAI].[Sale].[FactV4] f (NOLOCK)\n",
    "JOIN [DWAI].[Sale].[DimCustomer] dc ON f.CustomerCode = dc.CustomerBk\n",
    "JOIN [DWAI].[regional].[DimSaleOffice] so ON dc.OfficeBk = so.SaleOfficeBk\n",
    "JOIN [DWAI].[regional].[DimCity] ci on ci.CityBK = dc.CityBk\n",
    "WHERE Order_Date BETWEEN 14010331 AND 14011030\n",
    "AND f.CustomerCode IN (\n",
    "            SELECT\n",
    "                    dc.CustomerBk\n",
    "            FROM [DWAI].[Sale].[DimCustomer] dc\n",
    "            WHERE dc.DeactiveDate IS NULL\n",
    "            AND dc.CustomerBk IN (\n",
    "                    SELECT CustomerCode\n",
    "                    FROM [DWAI].[Sale].[FactV4]\n",
    "                )\n",
    ")\"\"\"\n",
    "\n",
    "b = pd.read_sql(sql_clause, conn)"
   ]
  },
  {
   "cell_type": "code",
   "execution_count": 28,
   "metadata": {},
   "outputs": [
    {
     "data": {
      "text/html": [
       "<div>\n",
       "<style scoped>\n",
       "    .dataframe tbody tr th:only-of-type {\n",
       "        vertical-align: middle;\n",
       "    }\n",
       "\n",
       "    .dataframe tbody tr th {\n",
       "        vertical-align: top;\n",
       "    }\n",
       "\n",
       "    .dataframe thead th {\n",
       "        text-align: right;\n",
       "    }\n",
       "</style>\n",
       "<table border=\"1\" class=\"dataframe\">\n",
       "  <thead>\n",
       "    <tr style=\"text-align: right;\">\n",
       "      <th></th>\n",
       "      <th>CustomerBk</th>\n",
       "      <th>Order_Date</th>\n",
       "      <th>Product_Code</th>\n",
       "      <th>CityBk</th>\n",
       "      <th>AreaBk</th>\n",
       "      <th>CustomerTypeBk</th>\n",
       "      <th>OfficeBk</th>\n",
       "      <th>CityTitle</th>\n",
       "      <th>Actived</th>\n",
       "      <th>LastCustomerClassBk</th>\n",
       "      <th>DistPathCode</th>\n",
       "    </tr>\n",
       "  </thead>\n",
       "  <tbody>\n",
       "    <tr>\n",
       "      <th>0</th>\n",
       "      <td>142560827</td>\n",
       "      <td>14010529</td>\n",
       "      <td>1664</td>\n",
       "      <td>112</td>\n",
       "      <td>0</td>\n",
       "      <td>52</td>\n",
       "      <td>149</td>\n",
       "      <td>تهران</td>\n",
       "      <td>True</td>\n",
       "      <td>250</td>\n",
       "      <td>0</td>\n",
       "    </tr>\n",
       "    <tr>\n",
       "      <th>1</th>\n",
       "      <td>987083109</td>\n",
       "      <td>14010529</td>\n",
       "      <td>218</td>\n",
       "      <td>117</td>\n",
       "      <td>0</td>\n",
       "      <td>37</td>\n",
       "      <td>987</td>\n",
       "      <td>ساري</td>\n",
       "      <td>True</td>\n",
       "      <td>0</td>\n",
       "      <td>0</td>\n",
       "    </tr>\n",
       "    <tr>\n",
       "      <th>2</th>\n",
       "      <td>993083385</td>\n",
       "      <td>14010529</td>\n",
       "      <td>805</td>\n",
       "      <td>271</td>\n",
       "      <td>0</td>\n",
       "      <td>37</td>\n",
       "      <td>993</td>\n",
       "      <td>لاهيجان</td>\n",
       "      <td>True</td>\n",
       "      <td>300</td>\n",
       "      <td>0</td>\n",
       "    </tr>\n",
       "    <tr>\n",
       "      <th>3</th>\n",
       "      <td>970302304</td>\n",
       "      <td>14010917</td>\n",
       "      <td>2520</td>\n",
       "      <td>547</td>\n",
       "      <td>0</td>\n",
       "      <td>22</td>\n",
       "      <td>970</td>\n",
       "      <td>قشم</td>\n",
       "      <td>True</td>\n",
       "      <td>200</td>\n",
       "      <td>0</td>\n",
       "    </tr>\n",
       "    <tr>\n",
       "      <th>4</th>\n",
       "      <td>970302304</td>\n",
       "      <td>14010917</td>\n",
       "      <td>2521</td>\n",
       "      <td>547</td>\n",
       "      <td>0</td>\n",
       "      <td>22</td>\n",
       "      <td>970</td>\n",
       "      <td>قشم</td>\n",
       "      <td>True</td>\n",
       "      <td>200</td>\n",
       "      <td>0</td>\n",
       "    </tr>\n",
       "    <tr>\n",
       "      <th>...</th>\n",
       "      <td>...</td>\n",
       "      <td>...</td>\n",
       "      <td>...</td>\n",
       "      <td>...</td>\n",
       "      <td>...</td>\n",
       "      <td>...</td>\n",
       "      <td>...</td>\n",
       "      <td>...</td>\n",
       "      <td>...</td>\n",
       "      <td>...</td>\n",
       "      <td>...</td>\n",
       "    </tr>\n",
       "    <tr>\n",
       "      <th>2242998</th>\n",
       "      <td>191000233</td>\n",
       "      <td>14010614</td>\n",
       "      <td>496</td>\n",
       "      <td>1280</td>\n",
       "      <td>3</td>\n",
       "      <td>37</td>\n",
       "      <td>236</td>\n",
       "      <td>نيمور</td>\n",
       "      <td>True</td>\n",
       "      <td>50</td>\n",
       "      <td>2</td>\n",
       "    </tr>\n",
       "    <tr>\n",
       "      <th>2242999</th>\n",
       "      <td>959503035</td>\n",
       "      <td>14010614</td>\n",
       "      <td>643</td>\n",
       "      <td>112</td>\n",
       "      <td>0</td>\n",
       "      <td>37</td>\n",
       "      <td>959</td>\n",
       "      <td>تهران</td>\n",
       "      <td>True</td>\n",
       "      <td>300</td>\n",
       "      <td>0</td>\n",
       "    </tr>\n",
       "    <tr>\n",
       "      <th>2243000</th>\n",
       "      <td>999561785</td>\n",
       "      <td>14010615</td>\n",
       "      <td>1770</td>\n",
       "      <td>112</td>\n",
       "      <td>0</td>\n",
       "      <td>37</td>\n",
       "      <td>999</td>\n",
       "      <td>تهران</td>\n",
       "      <td>True</td>\n",
       "      <td>300</td>\n",
       "      <td>0</td>\n",
       "    </tr>\n",
       "    <tr>\n",
       "      <th>2243001</th>\n",
       "      <td>471083831</td>\n",
       "      <td>14010615</td>\n",
       "      <td>230</td>\n",
       "      <td>310</td>\n",
       "      <td>0</td>\n",
       "      <td>37</td>\n",
       "      <td>986</td>\n",
       "      <td>نوشهر</td>\n",
       "      <td>True</td>\n",
       "      <td>300</td>\n",
       "      <td>0</td>\n",
       "    </tr>\n",
       "    <tr>\n",
       "      <th>2243002</th>\n",
       "      <td>993084499</td>\n",
       "      <td>14010615</td>\n",
       "      <td>230</td>\n",
       "      <td>271</td>\n",
       "      <td>0</td>\n",
       "      <td>37</td>\n",
       "      <td>993</td>\n",
       "      <td>لاهيجان</td>\n",
       "      <td>True</td>\n",
       "      <td>300</td>\n",
       "      <td>0</td>\n",
       "    </tr>\n",
       "  </tbody>\n",
       "</table>\n",
       "<p>2243003 rows × 11 columns</p>\n",
       "</div>"
      ],
      "text/plain": [
       "         CustomerBk  Order_Date  Product_Code  CityBk  AreaBk  CustomerTypeBk  \\\n",
       "0         142560827    14010529          1664     112       0              52   \n",
       "1         987083109    14010529           218     117       0              37   \n",
       "2         993083385    14010529           805     271       0              37   \n",
       "3         970302304    14010917          2520     547       0              22   \n",
       "4         970302304    14010917          2521     547       0              22   \n",
       "...             ...         ...           ...     ...     ...             ...   \n",
       "2242998   191000233    14010614           496    1280       3              37   \n",
       "2242999   959503035    14010614           643     112       0              37   \n",
       "2243000   999561785    14010615          1770     112       0              37   \n",
       "2243001   471083831    14010615           230     310       0              37   \n",
       "2243002   993084499    14010615           230     271       0              37   \n",
       "\n",
       "         OfficeBk CityTitle  Actived  LastCustomerClassBk  DistPathCode  \n",
       "0             149     تهران     True                  250             0  \n",
       "1             987      ساري     True                    0             0  \n",
       "2             993   لاهيجان     True                  300             0  \n",
       "3             970       قشم     True                  200             0  \n",
       "4             970       قشم     True                  200             0  \n",
       "...           ...       ...      ...                  ...           ...  \n",
       "2242998       236     نيمور     True                   50             2  \n",
       "2242999       959     تهران     True                  300             0  \n",
       "2243000       999     تهران     True                  300             0  \n",
       "2243001       986     نوشهر     True                  300             0  \n",
       "2243002       993   لاهيجان     True                  300             0  \n",
       "\n",
       "[2243003 rows x 11 columns]"
      ]
     },
     "execution_count": 28,
     "metadata": {},
     "output_type": "execute_result"
    }
   ],
   "source": [
    "b"
   ]
  },
  {
   "cell_type": "markdown",
   "metadata": {},
   "source": [
    "# دو برابر کردن دیتای 6 ماه اخیر"
   ]
  },
  {
   "cell_type": "code",
   "execution_count": 29,
   "metadata": {},
   "outputs": [],
   "source": [
    "c=pd.concat([b, b])"
   ]
  },
  {
   "cell_type": "markdown",
   "metadata": {},
   "source": [
    "# تجمیع دیتای دوبرابر شده 6 ماه قبل و داده های قبلی تا 3 سال قبل به میزان یک برابر"
   ]
  },
  {
   "cell_type": "code",
   "execution_count": 30,
   "metadata": {},
   "outputs": [],
   "source": [
    "df=pd.concat([a, c])"
   ]
  },
  {
   "cell_type": "code",
   "execution_count": 31,
   "metadata": {},
   "outputs": [
    {
     "data": {
      "text/html": [
       "<div>\n",
       "<style scoped>\n",
       "    .dataframe tbody tr th:only-of-type {\n",
       "        vertical-align: middle;\n",
       "    }\n",
       "\n",
       "    .dataframe tbody tr th {\n",
       "        vertical-align: top;\n",
       "    }\n",
       "\n",
       "    .dataframe thead th {\n",
       "        text-align: right;\n",
       "    }\n",
       "</style>\n",
       "<table border=\"1\" class=\"dataframe\">\n",
       "  <thead>\n",
       "    <tr style=\"text-align: right;\">\n",
       "      <th></th>\n",
       "      <th>CustomerBk</th>\n",
       "      <th>Order_Date</th>\n",
       "      <th>Product_Code</th>\n",
       "      <th>CityBk</th>\n",
       "      <th>AreaBk</th>\n",
       "      <th>CustomerTypeBk</th>\n",
       "      <th>OfficeBk</th>\n",
       "      <th>CityTitle</th>\n",
       "      <th>Actived</th>\n",
       "      <th>LastCustomerClassBk</th>\n",
       "      <th>DistPathCode</th>\n",
       "    </tr>\n",
       "  </thead>\n",
       "  <tbody>\n",
       "    <tr>\n",
       "      <th>0</th>\n",
       "      <td>972442240</td>\n",
       "      <td>13980904</td>\n",
       "      <td>218</td>\n",
       "      <td>437</td>\n",
       "      <td>0</td>\n",
       "      <td>37</td>\n",
       "      <td>325</td>\n",
       "      <td>ملك شهر</td>\n",
       "      <td>True</td>\n",
       "      <td>0</td>\n",
       "      <td>0</td>\n",
       "    </tr>\n",
       "    <tr>\n",
       "      <th>1</th>\n",
       "      <td>292034224</td>\n",
       "      <td>13980904</td>\n",
       "      <td>381</td>\n",
       "      <td>149</td>\n",
       "      <td>0</td>\n",
       "      <td>37</td>\n",
       "      <td>995</td>\n",
       "      <td>ايلام</td>\n",
       "      <td>True</td>\n",
       "      <td>100</td>\n",
       "      <td>1</td>\n",
       "    </tr>\n",
       "    <tr>\n",
       "      <th>2</th>\n",
       "      <td>959503144</td>\n",
       "      <td>13980904</td>\n",
       "      <td>275</td>\n",
       "      <td>112</td>\n",
       "      <td>0</td>\n",
       "      <td>37</td>\n",
       "      <td>959</td>\n",
       "      <td>تهران</td>\n",
       "      <td>True</td>\n",
       "      <td>300</td>\n",
       "      <td>0</td>\n",
       "    </tr>\n",
       "    <tr>\n",
       "      <th>3</th>\n",
       "      <td>959503144</td>\n",
       "      <td>13980904</td>\n",
       "      <td>278</td>\n",
       "      <td>112</td>\n",
       "      <td>0</td>\n",
       "      <td>37</td>\n",
       "      <td>959</td>\n",
       "      <td>تهران</td>\n",
       "      <td>True</td>\n",
       "      <td>300</td>\n",
       "      <td>0</td>\n",
       "    </tr>\n",
       "    <tr>\n",
       "      <th>4</th>\n",
       "      <td>970301938</td>\n",
       "      <td>13980924</td>\n",
       "      <td>207</td>\n",
       "      <td>547</td>\n",
       "      <td>0</td>\n",
       "      <td>37</td>\n",
       "      <td>970</td>\n",
       "      <td>قشم</td>\n",
       "      <td>True</td>\n",
       "      <td>-10</td>\n",
       "      <td>0</td>\n",
       "    </tr>\n",
       "    <tr>\n",
       "      <th>...</th>\n",
       "      <td>...</td>\n",
       "      <td>...</td>\n",
       "      <td>...</td>\n",
       "      <td>...</td>\n",
       "      <td>...</td>\n",
       "      <td>...</td>\n",
       "      <td>...</td>\n",
       "      <td>...</td>\n",
       "      <td>...</td>\n",
       "      <td>...</td>\n",
       "      <td>...</td>\n",
       "    </tr>\n",
       "    <tr>\n",
       "      <th>2242998</th>\n",
       "      <td>191000233</td>\n",
       "      <td>14010614</td>\n",
       "      <td>496</td>\n",
       "      <td>1280</td>\n",
       "      <td>3</td>\n",
       "      <td>37</td>\n",
       "      <td>236</td>\n",
       "      <td>نيمور</td>\n",
       "      <td>True</td>\n",
       "      <td>50</td>\n",
       "      <td>2</td>\n",
       "    </tr>\n",
       "    <tr>\n",
       "      <th>2242999</th>\n",
       "      <td>959503035</td>\n",
       "      <td>14010614</td>\n",
       "      <td>643</td>\n",
       "      <td>112</td>\n",
       "      <td>0</td>\n",
       "      <td>37</td>\n",
       "      <td>959</td>\n",
       "      <td>تهران</td>\n",
       "      <td>True</td>\n",
       "      <td>300</td>\n",
       "      <td>0</td>\n",
       "    </tr>\n",
       "    <tr>\n",
       "      <th>2243000</th>\n",
       "      <td>999561785</td>\n",
       "      <td>14010615</td>\n",
       "      <td>1770</td>\n",
       "      <td>112</td>\n",
       "      <td>0</td>\n",
       "      <td>37</td>\n",
       "      <td>999</td>\n",
       "      <td>تهران</td>\n",
       "      <td>True</td>\n",
       "      <td>300</td>\n",
       "      <td>0</td>\n",
       "    </tr>\n",
       "    <tr>\n",
       "      <th>2243001</th>\n",
       "      <td>471083831</td>\n",
       "      <td>14010615</td>\n",
       "      <td>230</td>\n",
       "      <td>310</td>\n",
       "      <td>0</td>\n",
       "      <td>37</td>\n",
       "      <td>986</td>\n",
       "      <td>نوشهر</td>\n",
       "      <td>True</td>\n",
       "      <td>300</td>\n",
       "      <td>0</td>\n",
       "    </tr>\n",
       "    <tr>\n",
       "      <th>2243002</th>\n",
       "      <td>993084499</td>\n",
       "      <td>14010615</td>\n",
       "      <td>230</td>\n",
       "      <td>271</td>\n",
       "      <td>0</td>\n",
       "      <td>37</td>\n",
       "      <td>993</td>\n",
       "      <td>لاهيجان</td>\n",
       "      <td>True</td>\n",
       "      <td>300</td>\n",
       "      <td>0</td>\n",
       "    </tr>\n",
       "  </tbody>\n",
       "</table>\n",
       "<p>13743807 rows × 11 columns</p>\n",
       "</div>"
      ],
      "text/plain": [
       "         CustomerBk  Order_Date  Product_Code  CityBk  AreaBk  CustomerTypeBk  \\\n",
       "0         972442240    13980904           218     437       0              37   \n",
       "1         292034224    13980904           381     149       0              37   \n",
       "2         959503144    13980904           275     112       0              37   \n",
       "3         959503144    13980904           278     112       0              37   \n",
       "4         970301938    13980924           207     547       0              37   \n",
       "...             ...         ...           ...     ...     ...             ...   \n",
       "2242998   191000233    14010614           496    1280       3              37   \n",
       "2242999   959503035    14010614           643     112       0              37   \n",
       "2243000   999561785    14010615          1770     112       0              37   \n",
       "2243001   471083831    14010615           230     310       0              37   \n",
       "2243002   993084499    14010615           230     271       0              37   \n",
       "\n",
       "         OfficeBk CityTitle  Actived  LastCustomerClassBk  DistPathCode  \n",
       "0             325   ملك شهر     True                    0             0  \n",
       "1             995     ايلام     True                  100             1  \n",
       "2             959     تهران     True                  300             0  \n",
       "3             959     تهران     True                  300             0  \n",
       "4             970       قشم     True                  -10             0  \n",
       "...           ...       ...      ...                  ...           ...  \n",
       "2242998       236     نيمور     True                   50             2  \n",
       "2242999       959     تهران     True                  300             0  \n",
       "2243000       999     تهران     True                  300             0  \n",
       "2243001       986     نوشهر     True                  300             0  \n",
       "2243002       993   لاهيجان     True                  300             0  \n",
       "\n",
       "[13743807 rows x 11 columns]"
      ]
     },
     "execution_count": 31,
     "metadata": {},
     "output_type": "execute_result"
    }
   ],
   "source": [
    "df"
   ]
  },
  {
   "cell_type": "code",
   "execution_count": 32,
   "metadata": {},
   "outputs": [],
   "source": [
    "df1=df.reset_index()"
   ]
  },
  {
   "cell_type": "code",
   "execution_count": 33,
   "metadata": {},
   "outputs": [],
   "source": [
    "df=df1"
   ]
  },
  {
   "cell_type": "code",
   "execution_count": 28,
   "metadata": {},
   "outputs": [],
   "source": [
    "df.to_csv('first1.csv',index=False)"
   ]
  },
  {
   "cell_type": "code",
   "execution_count": 134,
   "metadata": {},
   "outputs": [],
   "source": [
    "df = pd.read_csv('first1.csv')"
   ]
  },
  {
   "cell_type": "code",
   "execution_count": 34,
   "metadata": {},
   "outputs": [
    {
     "data": {
      "text/html": [
       "<div>\n",
       "<style scoped>\n",
       "    .dataframe tbody tr th:only-of-type {\n",
       "        vertical-align: middle;\n",
       "    }\n",
       "\n",
       "    .dataframe tbody tr th {\n",
       "        vertical-align: top;\n",
       "    }\n",
       "\n",
       "    .dataframe thead th {\n",
       "        text-align: right;\n",
       "    }\n",
       "</style>\n",
       "<table border=\"1\" class=\"dataframe\">\n",
       "  <thead>\n",
       "    <tr style=\"text-align: right;\">\n",
       "      <th></th>\n",
       "      <th>index</th>\n",
       "      <th>CustomerBk</th>\n",
       "      <th>Order_Date</th>\n",
       "      <th>Product_Code</th>\n",
       "      <th>CityBk</th>\n",
       "      <th>AreaBk</th>\n",
       "      <th>CustomerTypeBk</th>\n",
       "      <th>OfficeBk</th>\n",
       "      <th>CityTitle</th>\n",
       "      <th>Actived</th>\n",
       "      <th>LastCustomerClassBk</th>\n",
       "      <th>DistPathCode</th>\n",
       "    </tr>\n",
       "  </thead>\n",
       "  <tbody>\n",
       "    <tr>\n",
       "      <th>0</th>\n",
       "      <td>0</td>\n",
       "      <td>972442240</td>\n",
       "      <td>13980904</td>\n",
       "      <td>218</td>\n",
       "      <td>437</td>\n",
       "      <td>0</td>\n",
       "      <td>37</td>\n",
       "      <td>325</td>\n",
       "      <td>ملك شهر</td>\n",
       "      <td>True</td>\n",
       "      <td>0</td>\n",
       "      <td>0</td>\n",
       "    </tr>\n",
       "    <tr>\n",
       "      <th>1</th>\n",
       "      <td>1</td>\n",
       "      <td>292034224</td>\n",
       "      <td>13980904</td>\n",
       "      <td>381</td>\n",
       "      <td>149</td>\n",
       "      <td>0</td>\n",
       "      <td>37</td>\n",
       "      <td>995</td>\n",
       "      <td>ايلام</td>\n",
       "      <td>True</td>\n",
       "      <td>100</td>\n",
       "      <td>1</td>\n",
       "    </tr>\n",
       "    <tr>\n",
       "      <th>2</th>\n",
       "      <td>2</td>\n",
       "      <td>959503144</td>\n",
       "      <td>13980904</td>\n",
       "      <td>275</td>\n",
       "      <td>112</td>\n",
       "      <td>0</td>\n",
       "      <td>37</td>\n",
       "      <td>959</td>\n",
       "      <td>تهران</td>\n",
       "      <td>True</td>\n",
       "      <td>300</td>\n",
       "      <td>0</td>\n",
       "    </tr>\n",
       "    <tr>\n",
       "      <th>3</th>\n",
       "      <td>3</td>\n",
       "      <td>959503144</td>\n",
       "      <td>13980904</td>\n",
       "      <td>278</td>\n",
       "      <td>112</td>\n",
       "      <td>0</td>\n",
       "      <td>37</td>\n",
       "      <td>959</td>\n",
       "      <td>تهران</td>\n",
       "      <td>True</td>\n",
       "      <td>300</td>\n",
       "      <td>0</td>\n",
       "    </tr>\n",
       "    <tr>\n",
       "      <th>4</th>\n",
       "      <td>4</td>\n",
       "      <td>970301938</td>\n",
       "      <td>13980924</td>\n",
       "      <td>207</td>\n",
       "      <td>547</td>\n",
       "      <td>0</td>\n",
       "      <td>37</td>\n",
       "      <td>970</td>\n",
       "      <td>قشم</td>\n",
       "      <td>True</td>\n",
       "      <td>-10</td>\n",
       "      <td>0</td>\n",
       "    </tr>\n",
       "    <tr>\n",
       "      <th>...</th>\n",
       "      <td>...</td>\n",
       "      <td>...</td>\n",
       "      <td>...</td>\n",
       "      <td>...</td>\n",
       "      <td>...</td>\n",
       "      <td>...</td>\n",
       "      <td>...</td>\n",
       "      <td>...</td>\n",
       "      <td>...</td>\n",
       "      <td>...</td>\n",
       "      <td>...</td>\n",
       "      <td>...</td>\n",
       "    </tr>\n",
       "    <tr>\n",
       "      <th>13743802</th>\n",
       "      <td>2242998</td>\n",
       "      <td>191000233</td>\n",
       "      <td>14010614</td>\n",
       "      <td>496</td>\n",
       "      <td>1280</td>\n",
       "      <td>3</td>\n",
       "      <td>37</td>\n",
       "      <td>236</td>\n",
       "      <td>نيمور</td>\n",
       "      <td>True</td>\n",
       "      <td>50</td>\n",
       "      <td>2</td>\n",
       "    </tr>\n",
       "    <tr>\n",
       "      <th>13743803</th>\n",
       "      <td>2242999</td>\n",
       "      <td>959503035</td>\n",
       "      <td>14010614</td>\n",
       "      <td>643</td>\n",
       "      <td>112</td>\n",
       "      <td>0</td>\n",
       "      <td>37</td>\n",
       "      <td>959</td>\n",
       "      <td>تهران</td>\n",
       "      <td>True</td>\n",
       "      <td>300</td>\n",
       "      <td>0</td>\n",
       "    </tr>\n",
       "    <tr>\n",
       "      <th>13743804</th>\n",
       "      <td>2243000</td>\n",
       "      <td>999561785</td>\n",
       "      <td>14010615</td>\n",
       "      <td>1770</td>\n",
       "      <td>112</td>\n",
       "      <td>0</td>\n",
       "      <td>37</td>\n",
       "      <td>999</td>\n",
       "      <td>تهران</td>\n",
       "      <td>True</td>\n",
       "      <td>300</td>\n",
       "      <td>0</td>\n",
       "    </tr>\n",
       "    <tr>\n",
       "      <th>13743805</th>\n",
       "      <td>2243001</td>\n",
       "      <td>471083831</td>\n",
       "      <td>14010615</td>\n",
       "      <td>230</td>\n",
       "      <td>310</td>\n",
       "      <td>0</td>\n",
       "      <td>37</td>\n",
       "      <td>986</td>\n",
       "      <td>نوشهر</td>\n",
       "      <td>True</td>\n",
       "      <td>300</td>\n",
       "      <td>0</td>\n",
       "    </tr>\n",
       "    <tr>\n",
       "      <th>13743806</th>\n",
       "      <td>2243002</td>\n",
       "      <td>993084499</td>\n",
       "      <td>14010615</td>\n",
       "      <td>230</td>\n",
       "      <td>271</td>\n",
       "      <td>0</td>\n",
       "      <td>37</td>\n",
       "      <td>993</td>\n",
       "      <td>لاهيجان</td>\n",
       "      <td>True</td>\n",
       "      <td>300</td>\n",
       "      <td>0</td>\n",
       "    </tr>\n",
       "  </tbody>\n",
       "</table>\n",
       "<p>13743807 rows × 12 columns</p>\n",
       "</div>"
      ],
      "text/plain": [
       "            index  CustomerBk  Order_Date  Product_Code  CityBk  AreaBk  \\\n",
       "0               0   972442240    13980904           218     437       0   \n",
       "1               1   292034224    13980904           381     149       0   \n",
       "2               2   959503144    13980904           275     112       0   \n",
       "3               3   959503144    13980904           278     112       0   \n",
       "4               4   970301938    13980924           207     547       0   \n",
       "...           ...         ...         ...           ...     ...     ...   \n",
       "13743802  2242998   191000233    14010614           496    1280       3   \n",
       "13743803  2242999   959503035    14010614           643     112       0   \n",
       "13743804  2243000   999561785    14010615          1770     112       0   \n",
       "13743805  2243001   471083831    14010615           230     310       0   \n",
       "13743806  2243002   993084499    14010615           230     271       0   \n",
       "\n",
       "          CustomerTypeBk  OfficeBk CityTitle  Actived  LastCustomerClassBk  \\\n",
       "0                     37       325   ملك شهر     True                    0   \n",
       "1                     37       995     ايلام     True                  100   \n",
       "2                     37       959     تهران     True                  300   \n",
       "3                     37       959     تهران     True                  300   \n",
       "4                     37       970       قشم     True                  -10   \n",
       "...                  ...       ...       ...      ...                  ...   \n",
       "13743802              37       236     نيمور     True                   50   \n",
       "13743803              37       959     تهران     True                  300   \n",
       "13743804              37       999     تهران     True                  300   \n",
       "13743805              37       986     نوشهر     True                  300   \n",
       "13743806              37       993   لاهيجان     True                  300   \n",
       "\n",
       "          DistPathCode  \n",
       "0                    0  \n",
       "1                    1  \n",
       "2                    0  \n",
       "3                    0  \n",
       "4                    0  \n",
       "...                ...  \n",
       "13743802             2  \n",
       "13743803             0  \n",
       "13743804             0  \n",
       "13743805             0  \n",
       "13743806             0  \n",
       "\n",
       "[13743807 rows x 12 columns]"
      ]
     },
     "execution_count": 34,
     "metadata": {},
     "output_type": "execute_result"
    }
   ],
   "source": [
    "df"
   ]
  },
  {
   "cell_type": "raw",
   "metadata": {
    "id": "SZGYDaF-m5wZ"
   },
   "source": []
  },
  {
   "cell_type": "code",
   "execution_count": 35,
   "metadata": {},
   "outputs": [],
   "source": [
    "df=df[['CustomerBk','CustomerTypeBk','Product_Code','AreaBk','CityTitle','OfficeBk','DistPathCode','LastCustomerClassBk']]"
   ]
  },
  {
   "cell_type": "code",
   "execution_count": 36,
   "metadata": {},
   "outputs": [
    {
     "data": {
      "text/plain": [
       "13743807"
      ]
     },
     "execution_count": 36,
     "metadata": {},
     "output_type": "execute_result"
    }
   ],
   "source": [
    "len(df)"
   ]
  },
  {
   "cell_type": "code",
   "execution_count": null,
   "metadata": {},
   "outputs": [],
   "source": []
  },
  {
   "cell_type": "code",
   "execution_count": 37,
   "metadata": {},
   "outputs": [
    {
     "data": {
      "text/plain": [
       "{133, 279, 280, 327, 345, 346}"
      ]
     },
     "execution_count": 37,
     "metadata": {},
     "output_type": "execute_result"
    }
   ],
   "source": [
    "set(df['OfficeBk'][df['CityTitle']=='تبريز'])"
   ]
  },
  {
   "cell_type": "code",
   "execution_count": 38,
   "metadata": {},
   "outputs": [
    {
     "data": {
      "text/plain": [
       "40"
      ]
     },
     "execution_count": 38,
     "metadata": {},
     "output_type": "execute_result"
    }
   ],
   "source": [
    "len(set(list(df['OfficeBk'][df['CityTitle']=='تبريز'])+list(df['OfficeBk'][df['CityTitle']=='تهران'])+list(df['OfficeBk'][df['CityTitle']=='اصفهان'])+list(df['OfficeBk'][df['CityTitle']=='مشهد'])))"
   ]
  },
  {
   "cell_type": "code",
   "execution_count": 39,
   "metadata": {},
   "outputs": [],
   "source": [
    "aaa=list(set(list(df['OfficeBk'][df['CityTitle']=='تبريز'])+list(df['OfficeBk'][df['CityTitle']=='تهران'])+list(df['OfficeBk'][df['CityTitle']=='اصفهان'])+list(df['OfficeBk'][df['CityTitle']=='مشهد'])+list(df['OfficeBk'][df['CityTitle']=='شيراز'])+list(df['OfficeBk'][df['CityTitle']=='يزد'])+list(df['OfficeBk'][df['CityTitle']=='اراک'])+list(df['OfficeBk'][df['CityTitle']=='اهواز'])+list(df['OfficeBk'][df['CityTitle']=='رشت'])))"
   ]
  },
  {
   "cell_type": "code",
   "execution_count": 40,
   "metadata": {},
   "outputs": [
    {
     "data": {
      "text/plain": [
       "55"
      ]
     },
     "execution_count": 40,
     "metadata": {},
     "output_type": "execute_result"
    }
   ],
   "source": [
    "len(aaa)"
   ]
  },
  {
   "cell_type": "code",
   "execution_count": 41,
   "metadata": {},
   "outputs": [
    {
     "data": {
      "text/plain": [
       "[129,\n",
       " 260,\n",
       " 133,\n",
       " 902,\n",
       " 134,\n",
       " 132,\n",
       " 138,\n",
       " 267,\n",
       " 268,\n",
       " 139,\n",
       " 272,\n",
       " 273,\n",
       " 146,\n",
       " 147,\n",
       " 148,\n",
       " 149,\n",
       " 150,\n",
       " 279,\n",
       " 280,\n",
       " 154,\n",
       " 155,\n",
       " 156,\n",
       " 157,\n",
       " 158,\n",
       " 159,\n",
       " 289,\n",
       " 936,\n",
       " 948,\n",
       " 956,\n",
       " 959,\n",
       " 320,\n",
       " 324,\n",
       " 325,\n",
       " 326,\n",
       " 327,\n",
       " 200,\n",
       " 971,\n",
       " 975,\n",
       " 336,\n",
       " 977,\n",
       " 210,\n",
       " 339,\n",
       " 976,\n",
       " 982,\n",
       " 983,\n",
       " 345,\n",
       " 346,\n",
       " 220,\n",
       " 230,\n",
       " 999,\n",
       " 998,\n",
       " 233,\n",
       " 234,\n",
       " 237,\n",
       " 250]"
      ]
     },
     "execution_count": 41,
     "metadata": {},
     "output_type": "execute_result"
    }
   ],
   "source": [
    "aaa"
   ]
  },
  {
   "cell_type": "code",
   "execution_count": 42,
   "metadata": {},
   "outputs": [],
   "source": [
    "# len(set(list(df['OfficeBk'][df['CityTitle']=='تهران'])))"
   ]
  },
  {
   "cell_type": "code",
   "execution_count": 43,
   "metadata": {},
   "outputs": [],
   "source": [
    "# set(list(df['OfficeBk'][df['CityTitle']=='تهران']))"
   ]
  },
  {
   "cell_type": "markdown",
   "metadata": {},
   "source": [
    "# تفکیک دیتای کلانشهرها از غیر کلانشهرها"
   ]
  },
  {
   "cell_type": "code",
   "execution_count": 44,
   "metadata": {},
   "outputs": [],
   "source": [
    "lll=[]\n",
    "lll1 = []\n",
    "for i in range(len(df)):\n",
    "    if df['OfficeBk'][i] in aaa:\n",
    "        lll.append(i)  \n",
    "    else:\n",
    "        lll1.append(i)"
   ]
  },
  {
   "cell_type": "code",
   "execution_count": null,
   "metadata": {},
   "outputs": [],
   "source": []
  },
  {
   "cell_type": "code",
   "execution_count": 45,
   "metadata": {},
   "outputs": [
    {
     "data": {
      "text/plain": [
       "13743807"
      ]
     },
     "execution_count": 45,
     "metadata": {},
     "output_type": "execute_result"
    }
   ],
   "source": [
    "len(df)"
   ]
  },
  {
   "cell_type": "code",
   "execution_count": 46,
   "metadata": {},
   "outputs": [
    {
     "data": {
      "text/plain": [
       "6542548"
      ]
     },
     "execution_count": 46,
     "metadata": {},
     "output_type": "execute_result"
    }
   ],
   "source": [
    "len(lll)"
   ]
  },
  {
   "cell_type": "code",
   "execution_count": 47,
   "metadata": {},
   "outputs": [
    {
     "data": {
      "text/plain": [
       "7201259"
      ]
     },
     "execution_count": 47,
     "metadata": {},
     "output_type": "execute_result"
    }
   ],
   "source": [
    "len(lll1)"
   ]
  },
  {
   "cell_type": "markdown",
   "metadata": {},
   "source": [
    "# ادامه با دیتای کلانشهرها"
   ]
  },
  {
   "cell_type": "code",
   "execution_count": 48,
   "metadata": {},
   "outputs": [],
   "source": [
    "df2=df.iloc[lll]"
   ]
  },
  {
   "cell_type": "code",
   "execution_count": 49,
   "metadata": {},
   "outputs": [],
   "source": [
    "df3=df2.reset_index()"
   ]
  },
  {
   "cell_type": "code",
   "execution_count": 50,
   "metadata": {},
   "outputs": [],
   "source": [
    "df4=df3.iloc[:,1:]"
   ]
  },
  {
   "cell_type": "code",
   "execution_count": 51,
   "metadata": {},
   "outputs": [
    {
     "data": {
      "text/html": [
       "<div>\n",
       "<style scoped>\n",
       "    .dataframe tbody tr th:only-of-type {\n",
       "        vertical-align: middle;\n",
       "    }\n",
       "\n",
       "    .dataframe tbody tr th {\n",
       "        vertical-align: top;\n",
       "    }\n",
       "\n",
       "    .dataframe thead th {\n",
       "        text-align: right;\n",
       "    }\n",
       "</style>\n",
       "<table border=\"1\" class=\"dataframe\">\n",
       "  <thead>\n",
       "    <tr style=\"text-align: right;\">\n",
       "      <th></th>\n",
       "      <th>CustomerBk</th>\n",
       "      <th>CustomerTypeBk</th>\n",
       "      <th>Product_Code</th>\n",
       "      <th>AreaBk</th>\n",
       "      <th>CityTitle</th>\n",
       "      <th>OfficeBk</th>\n",
       "      <th>DistPathCode</th>\n",
       "      <th>LastCustomerClassBk</th>\n",
       "    </tr>\n",
       "  </thead>\n",
       "  <tbody>\n",
       "    <tr>\n",
       "      <th>0</th>\n",
       "      <td>972442240</td>\n",
       "      <td>37</td>\n",
       "      <td>218</td>\n",
       "      <td>0</td>\n",
       "      <td>ملك شهر</td>\n",
       "      <td>325</td>\n",
       "      <td>0</td>\n",
       "      <td>0</td>\n",
       "    </tr>\n",
       "    <tr>\n",
       "      <th>1</th>\n",
       "      <td>959503144</td>\n",
       "      <td>37</td>\n",
       "      <td>275</td>\n",
       "      <td>0</td>\n",
       "      <td>تهران</td>\n",
       "      <td>959</td>\n",
       "      <td>0</td>\n",
       "      <td>300</td>\n",
       "    </tr>\n",
       "    <tr>\n",
       "      <th>2</th>\n",
       "      <td>959503144</td>\n",
       "      <td>37</td>\n",
       "      <td>278</td>\n",
       "      <td>0</td>\n",
       "      <td>تهران</td>\n",
       "      <td>959</td>\n",
       "      <td>0</td>\n",
       "      <td>300</td>\n",
       "    </tr>\n",
       "    <tr>\n",
       "      <th>3</th>\n",
       "      <td>621004521</td>\n",
       "      <td>37</td>\n",
       "      <td>1511</td>\n",
       "      <td>132</td>\n",
       "      <td>تهران</td>\n",
       "      <td>956</td>\n",
       "      <td>3</td>\n",
       "      <td>100</td>\n",
       "    </tr>\n",
       "    <tr>\n",
       "      <th>4</th>\n",
       "      <td>622501396</td>\n",
       "      <td>38</td>\n",
       "      <td>2864</td>\n",
       "      <td>151</td>\n",
       "      <td>تهران</td>\n",
       "      <td>146</td>\n",
       "      <td>2</td>\n",
       "      <td>300</td>\n",
       "    </tr>\n",
       "    <tr>\n",
       "      <th>...</th>\n",
       "      <td>...</td>\n",
       "      <td>...</td>\n",
       "      <td>...</td>\n",
       "      <td>...</td>\n",
       "      <td>...</td>\n",
       "      <td>...</td>\n",
       "      <td>...</td>\n",
       "      <td>...</td>\n",
       "    </tr>\n",
       "    <tr>\n",
       "      <th>6542543</th>\n",
       "      <td>611040281</td>\n",
       "      <td>37</td>\n",
       "      <td>1080</td>\n",
       "      <td>504</td>\n",
       "      <td>تهران</td>\n",
       "      <td>156</td>\n",
       "      <td>1</td>\n",
       "      <td>100</td>\n",
       "    </tr>\n",
       "    <tr>\n",
       "      <th>6542544</th>\n",
       "      <td>954560659</td>\n",
       "      <td>37</td>\n",
       "      <td>1298</td>\n",
       "      <td>0</td>\n",
       "      <td>تهران</td>\n",
       "      <td>250</td>\n",
       "      <td>0</td>\n",
       "      <td>300</td>\n",
       "    </tr>\n",
       "    <tr>\n",
       "      <th>6542545</th>\n",
       "      <td>619040248</td>\n",
       "      <td>37</td>\n",
       "      <td>1511</td>\n",
       "      <td>11</td>\n",
       "      <td>تهران</td>\n",
       "      <td>149</td>\n",
       "      <td>1</td>\n",
       "      <td>50</td>\n",
       "    </tr>\n",
       "    <tr>\n",
       "      <th>6542546</th>\n",
       "      <td>959503035</td>\n",
       "      <td>37</td>\n",
       "      <td>643</td>\n",
       "      <td>0</td>\n",
       "      <td>تهران</td>\n",
       "      <td>959</td>\n",
       "      <td>0</td>\n",
       "      <td>300</td>\n",
       "    </tr>\n",
       "    <tr>\n",
       "      <th>6542547</th>\n",
       "      <td>999561785</td>\n",
       "      <td>37</td>\n",
       "      <td>1770</td>\n",
       "      <td>0</td>\n",
       "      <td>تهران</td>\n",
       "      <td>999</td>\n",
       "      <td>0</td>\n",
       "      <td>300</td>\n",
       "    </tr>\n",
       "  </tbody>\n",
       "</table>\n",
       "<p>6542548 rows × 8 columns</p>\n",
       "</div>"
      ],
      "text/plain": [
       "         CustomerBk  CustomerTypeBk  Product_Code  AreaBk CityTitle  OfficeBk  \\\n",
       "0         972442240              37           218       0   ملك شهر       325   \n",
       "1         959503144              37           275       0     تهران       959   \n",
       "2         959503144              37           278       0     تهران       959   \n",
       "3         621004521              37          1511     132     تهران       956   \n",
       "4         622501396              38          2864     151     تهران       146   \n",
       "...             ...             ...           ...     ...       ...       ...   \n",
       "6542543   611040281              37          1080     504     تهران       156   \n",
       "6542544   954560659              37          1298       0     تهران       250   \n",
       "6542545   619040248              37          1511      11     تهران       149   \n",
       "6542546   959503035              37           643       0     تهران       959   \n",
       "6542547   999561785              37          1770       0     تهران       999   \n",
       "\n",
       "         DistPathCode  LastCustomerClassBk  \n",
       "0                   0                    0  \n",
       "1                   0                  300  \n",
       "2                   0                  300  \n",
       "3                   3                  100  \n",
       "4                   2                  300  \n",
       "...               ...                  ...  \n",
       "6542543             1                  100  \n",
       "6542544             0                  300  \n",
       "6542545             1                   50  \n",
       "6542546             0                  300  \n",
       "6542547             0                  300  \n",
       "\n",
       "[6542548 rows x 8 columns]"
      ]
     },
     "execution_count": 51,
     "metadata": {},
     "output_type": "execute_result"
    }
   ],
   "source": [
    "df4"
   ]
  },
  {
   "cell_type": "code",
   "execution_count": 52,
   "metadata": {},
   "outputs": [],
   "source": [
    "df = df4"
   ]
  },
  {
   "cell_type": "code",
   "execution_count": null,
   "metadata": {},
   "outputs": [],
   "source": []
  },
  {
   "cell_type": "code",
   "execution_count": null,
   "metadata": {},
   "outputs": [],
   "source": []
  },
  {
   "cell_type": "code",
   "execution_count": 53,
   "metadata": {},
   "outputs": [],
   "source": [
    "\n",
    "df=df.dropna(axis=0, subset=['OfficeBk'])"
   ]
  },
  {
   "cell_type": "code",
   "execution_count": 54,
   "metadata": {},
   "outputs": [],
   "source": [
    "df = df.reset_index()"
   ]
  },
  {
   "cell_type": "code",
   "execution_count": 55,
   "metadata": {},
   "outputs": [],
   "source": [
    "df=df.iloc[:,1:]"
   ]
  },
  {
   "cell_type": "code",
   "execution_count": 56,
   "metadata": {},
   "outputs": [
    {
     "data": {
      "text/plain": [
       "6542548"
      ]
     },
     "execution_count": 56,
     "metadata": {},
     "output_type": "execute_result"
    }
   ],
   "source": [
    "len(df)"
   ]
  },
  {
   "cell_type": "markdown",
   "metadata": {},
   "source": [
    "# خواندن لیست محصولات فعال"
   ]
  },
  {
   "cell_type": "code",
   "execution_count": 61,
   "metadata": {},
   "outputs": [],
   "source": [
    "df1=pd.read_csv('product.csv')"
   ]
  },
  {
   "cell_type": "code",
   "execution_count": 62,
   "metadata": {},
   "outputs": [],
   "source": [
    "f=df1['ProductBK'].unique()"
   ]
  },
  {
   "cell_type": "code",
   "execution_count": 63,
   "metadata": {},
   "outputs": [],
   "source": [
    "f=list(f)"
   ]
  },
  {
   "cell_type": "code",
   "execution_count": 64,
   "metadata": {},
   "outputs": [
    {
     "data": {
      "text/plain": [
       "543"
      ]
     },
     "execution_count": 64,
     "metadata": {},
     "output_type": "execute_result"
    }
   ],
   "source": [
    "len(f)"
   ]
  },
  {
   "cell_type": "markdown",
   "metadata": {},
   "source": [
    "# استخراج تراکنشهایی که در آنها محول فعالی خریداری شده"
   ]
  },
  {
   "cell_type": "code",
   "execution_count": 65,
   "metadata": {},
   "outputs": [],
   "source": [
    "f1=[]\n",
    "for i in range(len(df)):\n",
    "    if df['Product_Code'][i] in f:\n",
    "        f1.append(i)"
   ]
  },
  {
   "cell_type": "code",
   "execution_count": 66,
   "metadata": {},
   "outputs": [
    {
     "data": {
      "text/plain": [
       "6542548"
      ]
     },
     "execution_count": 66,
     "metadata": {},
     "output_type": "execute_result"
    }
   ],
   "source": [
    "len(df)"
   ]
  },
  {
   "cell_type": "code",
   "execution_count": 67,
   "metadata": {},
   "outputs": [
    {
     "data": {
      "text/plain": [
       "6441011"
      ]
     },
     "execution_count": 67,
     "metadata": {},
     "output_type": "execute_result"
    }
   ],
   "source": [
    "len(f1)"
   ]
  },
  {
   "cell_type": "code",
   "execution_count": 68,
   "metadata": {},
   "outputs": [],
   "source": [
    "df2=df.iloc[f1]"
   ]
  },
  {
   "cell_type": "code",
   "execution_count": 69,
   "metadata": {},
   "outputs": [],
   "source": [
    "df3=df2.reset_index()"
   ]
  },
  {
   "cell_type": "code",
   "execution_count": 70,
   "metadata": {},
   "outputs": [],
   "source": [
    "df4=df3.iloc[:,1:]"
   ]
  },
  {
   "cell_type": "code",
   "execution_count": 71,
   "metadata": {},
   "outputs": [
    {
     "data": {
      "text/html": [
       "<div>\n",
       "<style scoped>\n",
       "    .dataframe tbody tr th:only-of-type {\n",
       "        vertical-align: middle;\n",
       "    }\n",
       "\n",
       "    .dataframe tbody tr th {\n",
       "        vertical-align: top;\n",
       "    }\n",
       "\n",
       "    .dataframe thead th {\n",
       "        text-align: right;\n",
       "    }\n",
       "</style>\n",
       "<table border=\"1\" class=\"dataframe\">\n",
       "  <thead>\n",
       "    <tr style=\"text-align: right;\">\n",
       "      <th></th>\n",
       "      <th>CustomerBk</th>\n",
       "      <th>CustomerTypeBk</th>\n",
       "      <th>Product_Code</th>\n",
       "      <th>AreaBk</th>\n",
       "      <th>CityTitle</th>\n",
       "      <th>OfficeBk</th>\n",
       "      <th>DistPathCode</th>\n",
       "      <th>LastCustomerClassBk</th>\n",
       "    </tr>\n",
       "  </thead>\n",
       "  <tbody>\n",
       "    <tr>\n",
       "      <th>0</th>\n",
       "      <td>972442240</td>\n",
       "      <td>37</td>\n",
       "      <td>218</td>\n",
       "      <td>0</td>\n",
       "      <td>ملك شهر</td>\n",
       "      <td>325</td>\n",
       "      <td>0</td>\n",
       "      <td>0</td>\n",
       "    </tr>\n",
       "    <tr>\n",
       "      <th>1</th>\n",
       "      <td>959503144</td>\n",
       "      <td>37</td>\n",
       "      <td>275</td>\n",
       "      <td>0</td>\n",
       "      <td>تهران</td>\n",
       "      <td>959</td>\n",
       "      <td>0</td>\n",
       "      <td>300</td>\n",
       "    </tr>\n",
       "    <tr>\n",
       "      <th>2</th>\n",
       "      <td>959503144</td>\n",
       "      <td>37</td>\n",
       "      <td>278</td>\n",
       "      <td>0</td>\n",
       "      <td>تهران</td>\n",
       "      <td>959</td>\n",
       "      <td>0</td>\n",
       "      <td>300</td>\n",
       "    </tr>\n",
       "    <tr>\n",
       "      <th>3</th>\n",
       "      <td>621004521</td>\n",
       "      <td>37</td>\n",
       "      <td>1511</td>\n",
       "      <td>132</td>\n",
       "      <td>تهران</td>\n",
       "      <td>956</td>\n",
       "      <td>3</td>\n",
       "      <td>100</td>\n",
       "    </tr>\n",
       "    <tr>\n",
       "      <th>4</th>\n",
       "      <td>622501396</td>\n",
       "      <td>38</td>\n",
       "      <td>2864</td>\n",
       "      <td>151</td>\n",
       "      <td>تهران</td>\n",
       "      <td>146</td>\n",
       "      <td>2</td>\n",
       "      <td>300</td>\n",
       "    </tr>\n",
       "    <tr>\n",
       "      <th>...</th>\n",
       "      <td>...</td>\n",
       "      <td>...</td>\n",
       "      <td>...</td>\n",
       "      <td>...</td>\n",
       "      <td>...</td>\n",
       "      <td>...</td>\n",
       "      <td>...</td>\n",
       "      <td>...</td>\n",
       "    </tr>\n",
       "    <tr>\n",
       "      <th>6441006</th>\n",
       "      <td>611040281</td>\n",
       "      <td>37</td>\n",
       "      <td>1080</td>\n",
       "      <td>504</td>\n",
       "      <td>تهران</td>\n",
       "      <td>156</td>\n",
       "      <td>1</td>\n",
       "      <td>100</td>\n",
       "    </tr>\n",
       "    <tr>\n",
       "      <th>6441007</th>\n",
       "      <td>954560659</td>\n",
       "      <td>37</td>\n",
       "      <td>1298</td>\n",
       "      <td>0</td>\n",
       "      <td>تهران</td>\n",
       "      <td>250</td>\n",
       "      <td>0</td>\n",
       "      <td>300</td>\n",
       "    </tr>\n",
       "    <tr>\n",
       "      <th>6441008</th>\n",
       "      <td>619040248</td>\n",
       "      <td>37</td>\n",
       "      <td>1511</td>\n",
       "      <td>11</td>\n",
       "      <td>تهران</td>\n",
       "      <td>149</td>\n",
       "      <td>1</td>\n",
       "      <td>50</td>\n",
       "    </tr>\n",
       "    <tr>\n",
       "      <th>6441009</th>\n",
       "      <td>959503035</td>\n",
       "      <td>37</td>\n",
       "      <td>643</td>\n",
       "      <td>0</td>\n",
       "      <td>تهران</td>\n",
       "      <td>959</td>\n",
       "      <td>0</td>\n",
       "      <td>300</td>\n",
       "    </tr>\n",
       "    <tr>\n",
       "      <th>6441010</th>\n",
       "      <td>999561785</td>\n",
       "      <td>37</td>\n",
       "      <td>1770</td>\n",
       "      <td>0</td>\n",
       "      <td>تهران</td>\n",
       "      <td>999</td>\n",
       "      <td>0</td>\n",
       "      <td>300</td>\n",
       "    </tr>\n",
       "  </tbody>\n",
       "</table>\n",
       "<p>6441011 rows × 8 columns</p>\n",
       "</div>"
      ],
      "text/plain": [
       "         CustomerBk  CustomerTypeBk  Product_Code  AreaBk CityTitle  OfficeBk  \\\n",
       "0         972442240              37           218       0   ملك شهر       325   \n",
       "1         959503144              37           275       0     تهران       959   \n",
       "2         959503144              37           278       0     تهران       959   \n",
       "3         621004521              37          1511     132     تهران       956   \n",
       "4         622501396              38          2864     151     تهران       146   \n",
       "...             ...             ...           ...     ...       ...       ...   \n",
       "6441006   611040281              37          1080     504     تهران       156   \n",
       "6441007   954560659              37          1298       0     تهران       250   \n",
       "6441008   619040248              37          1511      11     تهران       149   \n",
       "6441009   959503035              37           643       0     تهران       959   \n",
       "6441010   999561785              37          1770       0     تهران       999   \n",
       "\n",
       "         DistPathCode  LastCustomerClassBk  \n",
       "0                   0                    0  \n",
       "1                   0                  300  \n",
       "2                   0                  300  \n",
       "3                   3                  100  \n",
       "4                   2                  300  \n",
       "...               ...                  ...  \n",
       "6441006             1                  100  \n",
       "6441007             0                  300  \n",
       "6441008             1                   50  \n",
       "6441009             0                  300  \n",
       "6441010             0                  300  \n",
       "\n",
       "[6441011 rows x 8 columns]"
      ]
     },
     "execution_count": 71,
     "metadata": {},
     "output_type": "execute_result"
    }
   ],
   "source": [
    "df4"
   ]
  },
  {
   "cell_type": "code",
   "execution_count": 72,
   "metadata": {},
   "outputs": [],
   "source": [
    "df = df4"
   ]
  },
  {
   "cell_type": "code",
   "execution_count": null,
   "metadata": {},
   "outputs": [],
   "source": []
  },
  {
   "cell_type": "code",
   "execution_count": null,
   "metadata": {},
   "outputs": [],
   "source": []
  },
  {
   "cell_type": "code",
   "execution_count": 73,
   "metadata": {},
   "outputs": [
    {
     "data": {
      "text/plain": [
       "تهران      2385073\n",
       "مشهد        617416\n",
       "رشت         280823\n",
       "شيراز       261158\n",
       "اهواز       253651\n",
       "            ...   \n",
       "هوراند           2\n",
       "سنگان            2\n",
       "كنگان            2\n",
       "نيشابور          1\n",
       "قم               1\n",
       "Name: CityTitle, Length: 431, dtype: int64"
      ]
     },
     "execution_count": 73,
     "metadata": {},
     "output_type": "execute_result"
    }
   ],
   "source": [
    "df['CityTitle'].value_counts()"
   ]
  },
  {
   "cell_type": "code",
   "execution_count": 74,
   "metadata": {
    "id": "1tHMhrAX809H"
   },
   "outputs": [],
   "source": [
    "df['DistPathCode'] = df['DistPathCode'].astype(str)"
   ]
  },
  {
   "cell_type": "code",
   "execution_count": 75,
   "metadata": {},
   "outputs": [],
   "source": [
    "df['OfficeBk'] = df['OfficeBk'].astype(str)"
   ]
  },
  {
   "cell_type": "code",
   "execution_count": 76,
   "metadata": {},
   "outputs": [],
   "source": [
    "df['LastCustomerClassBk'] = df['LastCustomerClassBk'].astype(str)"
   ]
  },
  {
   "cell_type": "code",
   "execution_count": 77,
   "metadata": {
    "id": "kHLsIHhw_x1d"
   },
   "outputs": [],
   "source": [
    "df['CustomerBk'] = df['CustomerBk'].astype(str)"
   ]
  },
  {
   "cell_type": "code",
   "execution_count": 78,
   "metadata": {
    "id": "E-JMKlPacOLw"
   },
   "outputs": [],
   "source": [
    "df['CustomerTypeBk'] = df['CustomerTypeBk'].astype(str)"
   ]
  },
  {
   "cell_type": "code",
   "execution_count": 79,
   "metadata": {
    "id": "LxCjyZ5dcODe"
   },
   "outputs": [],
   "source": [
    "df['AreaBk'] = df['AreaBk'].astype(str)"
   ]
  },
  {
   "cell_type": "code",
   "execution_count": 80,
   "metadata": {
    "id": "ETJjGkxLcOBh"
   },
   "outputs": [],
   "source": [
    "df['Product_Code'] = df['Product_Code'].astype(str)"
   ]
  },
  {
   "cell_type": "code",
   "execution_count": 81,
   "metadata": {
    "id": "j4D_YYFS-o3P"
   },
   "outputs": [],
   "source": [
    "df['CityTitle'] = df['CityTitle'].astype(str)"
   ]
  },
  {
   "cell_type": "code",
   "execution_count": null,
   "metadata": {},
   "outputs": [],
   "source": []
  },
  {
   "cell_type": "code",
   "execution_count": 82,
   "metadata": {
    "id": "ujBA-tvRcN5F"
   },
   "outputs": [
    {
     "name": "stderr",
     "output_type": "stream",
     "text": [
      "2022-12-25 17:06:05.670901: W tensorflow/stream_executor/platform/default/dso_loader.cc:64] Could not load dynamic library 'libcuda.so.1'; dlerror: libcuda.so.1: cannot open shared object file: No such file or directory\n",
      "2022-12-25 17:06:05.672213: W tensorflow/stream_executor/cuda/cuda_driver.cc:269] failed call to cuInit: UNKNOWN ERROR (303)\n",
      "2022-12-25 17:06:05.674555: I tensorflow/stream_executor/cuda/cuda_diagnostics.cc:156] kernel driver does not appear to be running on this host (gljhub): /proc/driver/nvidia/version does not exist\n",
      "2022-12-25 17:06:05.720867: I tensorflow/core/platform/cpu_feature_guard.cc:151] This TensorFlow binary is optimized with oneAPI Deep Neural Network Library (oneDNN) to use the following CPU instructions in performance-critical operations:  AVX2 AVX512F FMA\n",
      "To enable them in other operations, rebuild TensorFlow with the appropriate compiler flags.\n"
     ]
    }
   ],
   "source": [
    "features = ['CustomerBk','AreaBk', 'Product_Code','DistPathCode','CustomerTypeBk','CityTitle','OfficeBk','LastCustomerClassBk'] \n",
    "dataset = (\n",
    "    tf.data.Dataset.from_tensor_slices(\n",
    "        (\n",
    "            tf.cast(df[features].values, tf.string)\n",
    "            \n",
    "        )\n",
    "    )\n",
    ")"
   ]
  },
  {
   "cell_type": "code",
   "execution_count": 83,
   "metadata": {
    "id": "njzK8nMUcWdE"
   },
   "outputs": [
    {
     "data": {
      "text/plain": [
       "<TensorSliceDataset element_spec=TensorSpec(shape=(8,), dtype=tf.string, name=None)>"
      ]
     },
     "execution_count": 83,
     "metadata": {},
     "output_type": "execute_result"
    }
   ],
   "source": [
    "dataset"
   ]
  },
  {
   "cell_type": "code",
   "execution_count": null,
   "metadata": {
    "id": "XbrwlyxY35uK"
   },
   "outputs": [],
   "source": []
  },
  {
   "cell_type": "code",
   "execution_count": 84,
   "metadata": {
    "id": "XLWxOfq0cWa6"
   },
   "outputs": [],
   "source": [
    "ratings = (dataset\n",
    "           .map(lambda rating: {'user_id': rating[0],'Area_Code':rating[1],'product_title': rating[2],'SalesDocumentType':rating[3],'Customer_Type':rating[4],'city_name':rating[5],'OfficeBk':rating[6],'ClassBk':rating[7]})\n",
    "           .cache(tempfile.NamedTemporaryFile().name)\n",
    ")"
   ]
  },
  {
   "cell_type": "code",
   "execution_count": 85,
   "metadata": {
    "id": "9EcdJh9rA4YK"
   },
   "outputs": [
    {
     "data": {
      "text/html": [
       "<div>\n",
       "<style scoped>\n",
       "    .dataframe tbody tr th:only-of-type {\n",
       "        vertical-align: middle;\n",
       "    }\n",
       "\n",
       "    .dataframe tbody tr th {\n",
       "        vertical-align: top;\n",
       "    }\n",
       "\n",
       "    .dataframe thead th {\n",
       "        text-align: right;\n",
       "    }\n",
       "</style>\n",
       "<table border=\"1\" class=\"dataframe\">\n",
       "  <thead>\n",
       "    <tr style=\"text-align: right;\">\n",
       "      <th></th>\n",
       "      <th>CustomerBk</th>\n",
       "      <th>CustomerTypeBk</th>\n",
       "      <th>Product_Code</th>\n",
       "      <th>AreaBk</th>\n",
       "      <th>CityTitle</th>\n",
       "      <th>OfficeBk</th>\n",
       "      <th>DistPathCode</th>\n",
       "      <th>LastCustomerClassBk</th>\n",
       "    </tr>\n",
       "  </thead>\n",
       "  <tbody>\n",
       "    <tr>\n",
       "      <th>0</th>\n",
       "      <td>972442240</td>\n",
       "      <td>37</td>\n",
       "      <td>218</td>\n",
       "      <td>0</td>\n",
       "      <td>ملك شهر</td>\n",
       "      <td>325</td>\n",
       "      <td>0</td>\n",
       "      <td>0</td>\n",
       "    </tr>\n",
       "    <tr>\n",
       "      <th>1</th>\n",
       "      <td>959503144</td>\n",
       "      <td>37</td>\n",
       "      <td>275</td>\n",
       "      <td>0</td>\n",
       "      <td>تهران</td>\n",
       "      <td>959</td>\n",
       "      <td>0</td>\n",
       "      <td>300</td>\n",
       "    </tr>\n",
       "    <tr>\n",
       "      <th>2</th>\n",
       "      <td>959503144</td>\n",
       "      <td>37</td>\n",
       "      <td>278</td>\n",
       "      <td>0</td>\n",
       "      <td>تهران</td>\n",
       "      <td>959</td>\n",
       "      <td>0</td>\n",
       "      <td>300</td>\n",
       "    </tr>\n",
       "    <tr>\n",
       "      <th>3</th>\n",
       "      <td>621004521</td>\n",
       "      <td>37</td>\n",
       "      <td>1511</td>\n",
       "      <td>132</td>\n",
       "      <td>تهران</td>\n",
       "      <td>956</td>\n",
       "      <td>3</td>\n",
       "      <td>100</td>\n",
       "    </tr>\n",
       "    <tr>\n",
       "      <th>4</th>\n",
       "      <td>622501396</td>\n",
       "      <td>38</td>\n",
       "      <td>2864</td>\n",
       "      <td>151</td>\n",
       "      <td>تهران</td>\n",
       "      <td>146</td>\n",
       "      <td>2</td>\n",
       "      <td>300</td>\n",
       "    </tr>\n",
       "    <tr>\n",
       "      <th>...</th>\n",
       "      <td>...</td>\n",
       "      <td>...</td>\n",
       "      <td>...</td>\n",
       "      <td>...</td>\n",
       "      <td>...</td>\n",
       "      <td>...</td>\n",
       "      <td>...</td>\n",
       "      <td>...</td>\n",
       "    </tr>\n",
       "    <tr>\n",
       "      <th>6441006</th>\n",
       "      <td>611040281</td>\n",
       "      <td>37</td>\n",
       "      <td>1080</td>\n",
       "      <td>504</td>\n",
       "      <td>تهران</td>\n",
       "      <td>156</td>\n",
       "      <td>1</td>\n",
       "      <td>100</td>\n",
       "    </tr>\n",
       "    <tr>\n",
       "      <th>6441007</th>\n",
       "      <td>954560659</td>\n",
       "      <td>37</td>\n",
       "      <td>1298</td>\n",
       "      <td>0</td>\n",
       "      <td>تهران</td>\n",
       "      <td>250</td>\n",
       "      <td>0</td>\n",
       "      <td>300</td>\n",
       "    </tr>\n",
       "    <tr>\n",
       "      <th>6441008</th>\n",
       "      <td>619040248</td>\n",
       "      <td>37</td>\n",
       "      <td>1511</td>\n",
       "      <td>11</td>\n",
       "      <td>تهران</td>\n",
       "      <td>149</td>\n",
       "      <td>1</td>\n",
       "      <td>50</td>\n",
       "    </tr>\n",
       "    <tr>\n",
       "      <th>6441009</th>\n",
       "      <td>959503035</td>\n",
       "      <td>37</td>\n",
       "      <td>643</td>\n",
       "      <td>0</td>\n",
       "      <td>تهران</td>\n",
       "      <td>959</td>\n",
       "      <td>0</td>\n",
       "      <td>300</td>\n",
       "    </tr>\n",
       "    <tr>\n",
       "      <th>6441010</th>\n",
       "      <td>999561785</td>\n",
       "      <td>37</td>\n",
       "      <td>1770</td>\n",
       "      <td>0</td>\n",
       "      <td>تهران</td>\n",
       "      <td>999</td>\n",
       "      <td>0</td>\n",
       "      <td>300</td>\n",
       "    </tr>\n",
       "  </tbody>\n",
       "</table>\n",
       "<p>6441011 rows × 8 columns</p>\n",
       "</div>"
      ],
      "text/plain": [
       "        CustomerBk CustomerTypeBk Product_Code AreaBk CityTitle OfficeBk  \\\n",
       "0        972442240             37          218      0   ملك شهر      325   \n",
       "1        959503144             37          275      0     تهران      959   \n",
       "2        959503144             37          278      0     تهران      959   \n",
       "3        621004521             37         1511    132     تهران      956   \n",
       "4        622501396             38         2864    151     تهران      146   \n",
       "...            ...            ...          ...    ...       ...      ...   \n",
       "6441006  611040281             37         1080    504     تهران      156   \n",
       "6441007  954560659             37         1298      0     تهران      250   \n",
       "6441008  619040248             37         1511     11     تهران      149   \n",
       "6441009  959503035             37          643      0     تهران      959   \n",
       "6441010  999561785             37         1770      0     تهران      999   \n",
       "\n",
       "        DistPathCode LastCustomerClassBk  \n",
       "0                  0                   0  \n",
       "1                  0                 300  \n",
       "2                  0                 300  \n",
       "3                  3                 100  \n",
       "4                  2                 300  \n",
       "...              ...                 ...  \n",
       "6441006            1                 100  \n",
       "6441007            0                 300  \n",
       "6441008            1                  50  \n",
       "6441009            0                 300  \n",
       "6441010            0                 300  \n",
       "\n",
       "[6441011 rows x 8 columns]"
      ]
     },
     "execution_count": 85,
     "metadata": {},
     "output_type": "execute_result"
    }
   ],
   "source": [
    "df"
   ]
  },
  {
   "cell_type": "code",
   "execution_count": 86,
   "metadata": {
    "id": "7vIXjJ5p0cZ4"
   },
   "outputs": [],
   "source": [
    "# dataset=[]"
   ]
  },
  {
   "cell_type": "code",
   "execution_count": 87,
   "metadata": {
    "id": "vjfV-T7zzdZf"
   },
   "outputs": [],
   "source": [
    "# features = ['CustomerCode', 'Product_Code'] \n",
    "# dataset = (\n",
    "#     tf.data.Dataset.from_tensor_slices(\n",
    "#         (\n",
    "#             tf.cast(df[features].values, tf.string)\n",
    "            \n",
    "#         )\n",
    "#     )\n",
    "# )"
   ]
  },
  {
   "cell_type": "code",
   "execution_count": 88,
   "metadata": {
    "id": "7ATgSIKA0Usg"
   },
   "outputs": [
    {
     "data": {
      "text/plain": [
       "<TensorSliceDataset element_spec=TensorSpec(shape=(8,), dtype=tf.string, name=None)>"
      ]
     },
     "execution_count": 88,
     "metadata": {},
     "output_type": "execute_result"
    }
   ],
   "source": [
    "dataset"
   ]
  },
  {
   "cell_type": "code",
   "execution_count": 89,
   "metadata": {
    "id": "xFEYrYdhzQZu"
   },
   "outputs": [],
   "source": [
    "# ratings = (dataset\n",
    "#            .map(lambda rating: {'user_id': rating[0],'product_title':rating[1]})\n",
    "#            .cache(tempfile.NamedTemporaryFile().name)\n",
    "# )"
   ]
  },
  {
   "cell_type": "code",
   "execution_count": 90,
   "metadata": {
    "id": "Q0zzZf0pA4Ma"
   },
   "outputs": [
    {
     "data": {
      "text/plain": [
       "<CacheDataset element_spec={'user_id': TensorSpec(shape=(), dtype=tf.string, name=None), 'Area_Code': TensorSpec(shape=(), dtype=tf.string, name=None), 'product_title': TensorSpec(shape=(), dtype=tf.string, name=None), 'SalesDocumentType': TensorSpec(shape=(), dtype=tf.string, name=None), 'Customer_Type': TensorSpec(shape=(), dtype=tf.string, name=None), 'city_name': TensorSpec(shape=(), dtype=tf.string, name=None), 'OfficeBk': TensorSpec(shape=(), dtype=tf.string, name=None), 'ClassBk': TensorSpec(shape=(), dtype=tf.string, name=None)}>"
      ]
     },
     "execution_count": 90,
     "metadata": {},
     "output_type": "execute_result"
    }
   ],
   "source": [
    "ratings"
   ]
  },
  {
   "cell_type": "code",
   "execution_count": 91,
   "metadata": {
    "id": "58QSeL4XcWWV"
   },
   "outputs": [
    {
     "data": {
      "text/plain": [
       "543"
      ]
     },
     "execution_count": 91,
     "metadata": {},
     "output_type": "execute_result"
    }
   ],
   "source": [
    "a = list(df['Product_Code'].unique())\n",
    "len(a)"
   ]
  },
  {
   "cell_type": "code",
   "execution_count": 92,
   "metadata": {
    "id": "kfw5fPGwcWUW"
   },
   "outputs": [],
   "source": [
    "b = 543*[1]"
   ]
  },
  {
   "cell_type": "code",
   "execution_count": 93,
   "metadata": {
    "id": "HZs1zpIMcjGs"
   },
   "outputs": [],
   "source": [
    "z=pd.DataFrame({'one':a, 'two':b})"
   ]
  },
  {
   "cell_type": "code",
   "execution_count": 94,
   "metadata": {
    "id": "ZZyCNKi9cjCN"
   },
   "outputs": [
    {
     "data": {
      "text/html": [
       "<div>\n",
       "<style scoped>\n",
       "    .dataframe tbody tr th:only-of-type {\n",
       "        vertical-align: middle;\n",
       "    }\n",
       "\n",
       "    .dataframe tbody tr th {\n",
       "        vertical-align: top;\n",
       "    }\n",
       "\n",
       "    .dataframe thead th {\n",
       "        text-align: right;\n",
       "    }\n",
       "</style>\n",
       "<table border=\"1\" class=\"dataframe\">\n",
       "  <thead>\n",
       "    <tr style=\"text-align: right;\">\n",
       "      <th></th>\n",
       "      <th>one</th>\n",
       "      <th>two</th>\n",
       "    </tr>\n",
       "  </thead>\n",
       "  <tbody>\n",
       "    <tr>\n",
       "      <th>0</th>\n",
       "      <td>218</td>\n",
       "      <td>1</td>\n",
       "    </tr>\n",
       "    <tr>\n",
       "      <th>1</th>\n",
       "      <td>275</td>\n",
       "      <td>1</td>\n",
       "    </tr>\n",
       "    <tr>\n",
       "      <th>2</th>\n",
       "      <td>278</td>\n",
       "      <td>1</td>\n",
       "    </tr>\n",
       "    <tr>\n",
       "      <th>3</th>\n",
       "      <td>1511</td>\n",
       "      <td>1</td>\n",
       "    </tr>\n",
       "    <tr>\n",
       "      <th>4</th>\n",
       "      <td>2864</td>\n",
       "      <td>1</td>\n",
       "    </tr>\n",
       "    <tr>\n",
       "      <th>...</th>\n",
       "      <td>...</td>\n",
       "      <td>...</td>\n",
       "    </tr>\n",
       "    <tr>\n",
       "      <th>538</th>\n",
       "      <td>1074</td>\n",
       "      <td>1</td>\n",
       "    </tr>\n",
       "    <tr>\n",
       "      <th>539</th>\n",
       "      <td>1777</td>\n",
       "      <td>1</td>\n",
       "    </tr>\n",
       "    <tr>\n",
       "      <th>540</th>\n",
       "      <td>3160</td>\n",
       "      <td>1</td>\n",
       "    </tr>\n",
       "    <tr>\n",
       "      <th>541</th>\n",
       "      <td>1542</td>\n",
       "      <td>1</td>\n",
       "    </tr>\n",
       "    <tr>\n",
       "      <th>542</th>\n",
       "      <td>1847</td>\n",
       "      <td>1</td>\n",
       "    </tr>\n",
       "  </tbody>\n",
       "</table>\n",
       "<p>543 rows × 2 columns</p>\n",
       "</div>"
      ],
      "text/plain": [
       "      one  two\n",
       "0     218    1\n",
       "1     275    1\n",
       "2     278    1\n",
       "3    1511    1\n",
       "4    2864    1\n",
       "..    ...  ...\n",
       "538  1074    1\n",
       "539  1777    1\n",
       "540  3160    1\n",
       "541  1542    1\n",
       "542  1847    1\n",
       "\n",
       "[543 rows x 2 columns]"
      ]
     },
     "execution_count": 94,
     "metadata": {},
     "output_type": "execute_result"
    }
   ],
   "source": [
    "z"
   ]
  },
  {
   "cell_type": "code",
   "execution_count": 95,
   "metadata": {
    "id": "X1Tn5bIwcjAJ"
   },
   "outputs": [],
   "source": [
    "features = ['one'] \n",
    "dataset1 = (\n",
    "    tf.data.Dataset.from_tensor_slices(\n",
    "        (\n",
    "            tf.cast(z[features].values, tf.string)\n",
    "        )\n",
    "    )\n",
    ")"
   ]
  },
  {
   "cell_type": "code",
   "execution_count": 96,
   "metadata": {
    "id": "NZ9lbkj6crzW"
   },
   "outputs": [],
   "source": [
    "products = (dataset1\n",
    "          .map(lambda x: x[0])\n",
    "          .cache(tempfile.NamedTemporaryFile().name))"
   ]
  },
  {
   "cell_type": "code",
   "execution_count": null,
   "metadata": {
    "id": "MjFituHJa0r_"
   },
   "outputs": [],
   "source": []
  },
  {
   "cell_type": "code",
   "execution_count": 97,
   "metadata": {
    "id": "EWF_Ayd7a0ZR"
   },
   "outputs": [
    {
     "data": {
      "text/plain": [
       "6441011"
      ]
     },
     "execution_count": 97,
     "metadata": {},
     "output_type": "execute_result"
    }
   ],
   "source": [
    "len(df)"
   ]
  },
  {
   "cell_type": "code",
   "execution_count": 98,
   "metadata": {
    "id": "rS0eDfkjnjJL"
   },
   "outputs": [],
   "source": [
    "tf.random.set_seed(42)\n",
    "shuffled = ratings.shuffle(9036061 , seed=42, reshuffle_each_iteration=False)\n",
    "\n",
    "train = shuffled.take(9036061)\n",
    "test = shuffled.skip(9036061).take(1)"
   ]
  },
  {
   "cell_type": "code",
   "execution_count": null,
   "metadata": {
    "id": "oeOvAjlca3EW"
   },
   "outputs": [],
   "source": []
  },
  {
   "cell_type": "code",
   "execution_count": 99,
   "metadata": {
    "id": "F3ahB6x4a4ay"
   },
   "outputs": [
    {
     "data": {
      "text/plain": [
       "<CacheDataset element_spec=TensorSpec(shape=(), dtype=tf.string, name=None)>"
      ]
     },
     "execution_count": 99,
     "metadata": {},
     "output_type": "execute_result"
    }
   ],
   "source": [
    "products"
   ]
  },
  {
   "cell_type": "code",
   "execution_count": 100,
   "metadata": {},
   "outputs": [
    {
     "data": {
      "text/html": [
       "<div>\n",
       "<style scoped>\n",
       "    .dataframe tbody tr th:only-of-type {\n",
       "        vertical-align: middle;\n",
       "    }\n",
       "\n",
       "    .dataframe tbody tr th {\n",
       "        vertical-align: top;\n",
       "    }\n",
       "\n",
       "    .dataframe thead th {\n",
       "        text-align: right;\n",
       "    }\n",
       "</style>\n",
       "<table border=\"1\" class=\"dataframe\">\n",
       "  <thead>\n",
       "    <tr style=\"text-align: right;\">\n",
       "      <th></th>\n",
       "      <th>CustomerBk</th>\n",
       "      <th>CustomerTypeBk</th>\n",
       "      <th>Product_Code</th>\n",
       "      <th>AreaBk</th>\n",
       "      <th>CityTitle</th>\n",
       "      <th>OfficeBk</th>\n",
       "      <th>DistPathCode</th>\n",
       "      <th>LastCustomerClassBk</th>\n",
       "    </tr>\n",
       "  </thead>\n",
       "  <tbody>\n",
       "    <tr>\n",
       "      <th>0</th>\n",
       "      <td>972442240</td>\n",
       "      <td>37</td>\n",
       "      <td>218</td>\n",
       "      <td>0</td>\n",
       "      <td>ملك شهر</td>\n",
       "      <td>325</td>\n",
       "      <td>0</td>\n",
       "      <td>0</td>\n",
       "    </tr>\n",
       "    <tr>\n",
       "      <th>1</th>\n",
       "      <td>959503144</td>\n",
       "      <td>37</td>\n",
       "      <td>275</td>\n",
       "      <td>0</td>\n",
       "      <td>تهران</td>\n",
       "      <td>959</td>\n",
       "      <td>0</td>\n",
       "      <td>300</td>\n",
       "    </tr>\n",
       "    <tr>\n",
       "      <th>2</th>\n",
       "      <td>959503144</td>\n",
       "      <td>37</td>\n",
       "      <td>278</td>\n",
       "      <td>0</td>\n",
       "      <td>تهران</td>\n",
       "      <td>959</td>\n",
       "      <td>0</td>\n",
       "      <td>300</td>\n",
       "    </tr>\n",
       "    <tr>\n",
       "      <th>3</th>\n",
       "      <td>621004521</td>\n",
       "      <td>37</td>\n",
       "      <td>1511</td>\n",
       "      <td>132</td>\n",
       "      <td>تهران</td>\n",
       "      <td>956</td>\n",
       "      <td>3</td>\n",
       "      <td>100</td>\n",
       "    </tr>\n",
       "    <tr>\n",
       "      <th>4</th>\n",
       "      <td>622501396</td>\n",
       "      <td>38</td>\n",
       "      <td>2864</td>\n",
       "      <td>151</td>\n",
       "      <td>تهران</td>\n",
       "      <td>146</td>\n",
       "      <td>2</td>\n",
       "      <td>300</td>\n",
       "    </tr>\n",
       "    <tr>\n",
       "      <th>...</th>\n",
       "      <td>...</td>\n",
       "      <td>...</td>\n",
       "      <td>...</td>\n",
       "      <td>...</td>\n",
       "      <td>...</td>\n",
       "      <td>...</td>\n",
       "      <td>...</td>\n",
       "      <td>...</td>\n",
       "    </tr>\n",
       "    <tr>\n",
       "      <th>6441006</th>\n",
       "      <td>611040281</td>\n",
       "      <td>37</td>\n",
       "      <td>1080</td>\n",
       "      <td>504</td>\n",
       "      <td>تهران</td>\n",
       "      <td>156</td>\n",
       "      <td>1</td>\n",
       "      <td>100</td>\n",
       "    </tr>\n",
       "    <tr>\n",
       "      <th>6441007</th>\n",
       "      <td>954560659</td>\n",
       "      <td>37</td>\n",
       "      <td>1298</td>\n",
       "      <td>0</td>\n",
       "      <td>تهران</td>\n",
       "      <td>250</td>\n",
       "      <td>0</td>\n",
       "      <td>300</td>\n",
       "    </tr>\n",
       "    <tr>\n",
       "      <th>6441008</th>\n",
       "      <td>619040248</td>\n",
       "      <td>37</td>\n",
       "      <td>1511</td>\n",
       "      <td>11</td>\n",
       "      <td>تهران</td>\n",
       "      <td>149</td>\n",
       "      <td>1</td>\n",
       "      <td>50</td>\n",
       "    </tr>\n",
       "    <tr>\n",
       "      <th>6441009</th>\n",
       "      <td>959503035</td>\n",
       "      <td>37</td>\n",
       "      <td>643</td>\n",
       "      <td>0</td>\n",
       "      <td>تهران</td>\n",
       "      <td>959</td>\n",
       "      <td>0</td>\n",
       "      <td>300</td>\n",
       "    </tr>\n",
       "    <tr>\n",
       "      <th>6441010</th>\n",
       "      <td>999561785</td>\n",
       "      <td>37</td>\n",
       "      <td>1770</td>\n",
       "      <td>0</td>\n",
       "      <td>تهران</td>\n",
       "      <td>999</td>\n",
       "      <td>0</td>\n",
       "      <td>300</td>\n",
       "    </tr>\n",
       "  </tbody>\n",
       "</table>\n",
       "<p>6441011 rows × 8 columns</p>\n",
       "</div>"
      ],
      "text/plain": [
       "        CustomerBk CustomerTypeBk Product_Code AreaBk CityTitle OfficeBk  \\\n",
       "0        972442240             37          218      0   ملك شهر      325   \n",
       "1        959503144             37          275      0     تهران      959   \n",
       "2        959503144             37          278      0     تهران      959   \n",
       "3        621004521             37         1511    132     تهران      956   \n",
       "4        622501396             38         2864    151     تهران      146   \n",
       "...            ...            ...          ...    ...       ...      ...   \n",
       "6441006  611040281             37         1080    504     تهران      156   \n",
       "6441007  954560659             37         1298      0     تهران      250   \n",
       "6441008  619040248             37         1511     11     تهران      149   \n",
       "6441009  959503035             37          643      0     تهران      959   \n",
       "6441010  999561785             37         1770      0     تهران      999   \n",
       "\n",
       "        DistPathCode LastCustomerClassBk  \n",
       "0                  0                   0  \n",
       "1                  0                 300  \n",
       "2                  0                 300  \n",
       "3                  3                 100  \n",
       "4                  2                 300  \n",
       "...              ...                 ...  \n",
       "6441006            1                 100  \n",
       "6441007            0                 300  \n",
       "6441008            1                  50  \n",
       "6441009            0                 300  \n",
       "6441010            0                 300  \n",
       "\n",
       "[6441011 rows x 8 columns]"
      ]
     },
     "execution_count": 100,
     "metadata": {},
     "output_type": "execute_result"
    }
   ],
   "source": [
    "df"
   ]
  },
  {
   "cell_type": "code",
   "execution_count": 101,
   "metadata": {},
   "outputs": [],
   "source": [
    "# l11"
   ]
  },
  {
   "cell_type": "code",
   "execution_count": 102,
   "metadata": {},
   "outputs": [],
   "source": [
    "# user_area"
   ]
  },
  {
   "cell_type": "code",
   "execution_count": null,
   "metadata": {
    "id": "MKROCiPo_5LJ"
   },
   "outputs": [
    {
     "name": "stderr",
     "output_type": "stream",
     "text": [
      "2022-12-25 17:06:11.143846: W tensorflow/core/kernels/data/cache_dataset_ops.cc:233] The calling iterator did not fully read the dataset being cached. In order to avoid unexpected truncation of the dataset, the partially cached contents of the dataset  will be discarded. This can happen if you have an input pipeline similar to `dataset.cache().take(k).repeat()`. You should use `dataset.take(k).cache().repeat()` instead.\n"
     ]
    }
   ],
   "source": [
    "product_title = products.batch(1_000)\n",
    "user_ids = ratings.batch(10_000_000).map(lambda x: x[\"user_id\"])\n",
    "user_area = ratings.batch(10_000_000).map(lambda x: x[\"Area_Code\"])\n",
    "user_sale = ratings.batch(10_000_000).map(lambda x: x[\"SalesDocumentType\"])\n",
    "user_types = ratings.batch(10_000_000).map(lambda x: x[\"Customer_Type\"])\n",
    "user_city = ratings.batch(10_000_000).map(lambda x: x[\"city_name\"])\n",
    "user_city1 = ratings.batch(10_000_000).map(lambda x: x[\"OfficeBk\"])\n",
    "user_city2 = ratings.batch(10_000_000).map(lambda x: x[\"ClassBk\"])\n",
    "\n",
    "unique_product_title = np.unique(np.concatenate(list(product_title)))\n",
    "unique_user_ids = np.unique(np.concatenate(list(user_ids)))\n",
    "unique_user_area = np.unique(np.concatenate(list(user_area)))\n",
    "unique_user_sale = np.unique(np.concatenate(list(user_sale)))\n",
    "unique_user_types = np.unique(np.concatenate(list(user_types)))\n",
    "unique_user_city = np.unique(np.concatenate(list(user_city)))\n",
    "unique_user_city1 = np.unique(np.concatenate(list(user_city1)))\n",
    "unique_user_city2 = np.unique(np.concatenate(list(user_city2)))\n",
    "\n",
    "unique_product_title[:20]"
   ]
  },
  {
   "cell_type": "code",
   "execution_count": null,
   "metadata": {},
   "outputs": [],
   "source": []
  },
  {
   "cell_type": "code",
   "execution_count": null,
   "metadata": {},
   "outputs": [],
   "source": [
    "unique_product_title"
   ]
  },
  {
   "cell_type": "code",
   "execution_count": null,
   "metadata": {
    "id": "Sw5HEqB779hx"
   },
   "outputs": [],
   "source": [
    "# product_title = products.batch(1_000)\n",
    "# user_ids = ratings.batch(1_000_000).map(lambda x: x[\"user_id\"])\n",
    "\n",
    "\n",
    "# unique_product_title = np.unique(np.concatenate(list(product_title)))\n",
    "# unique_user_ids = np.unique(np.concatenate(list(user_ids)))\n",
    "\n",
    "\n",
    "# unique_product_title[:20]"
   ]
  },
  {
   "cell_type": "code",
   "execution_count": null,
   "metadata": {
    "id": "9wPiSP8WwG7y"
   },
   "outputs": [],
   "source": [
    "len(unique_product_title)"
   ]
  },
  {
   "cell_type": "code",
   "execution_count": null,
   "metadata": {
    "id": "0M4bfxpqwTnx"
   },
   "outputs": [],
   "source": [
    "unique_user_ids"
   ]
  },
  {
   "cell_type": "code",
   "execution_count": null,
   "metadata": {},
   "outputs": [],
   "source": [
    "unique_product_title"
   ]
  },
  {
   "cell_type": "code",
   "execution_count": null,
   "metadata": {
    "id": "QbIy1FP8aCTq"
   },
   "outputs": [],
   "source": [
    "embedding_dimension = 320"
   ]
  },
  {
   "cell_type": "code",
   "execution_count": null,
   "metadata": {},
   "outputs": [],
   "source": []
  },
  {
   "cell_type": "code",
   "execution_count": null,
   "metadata": {
    "id": "kHQZJEhXP93N"
   },
   "outputs": [],
   "source": [
    "user_model = tf.keras.Sequential([\n",
    "  tf.keras.layers.StringLookup(\n",
    "      vocabulary=unique_user_ids, mask_token=None),\n",
    "  # We add an additional embedding to account for unknown tokens.\n",
    "  tf.keras.layers.Embedding(len(unique_user_ids) + 1, 30)\n",
    "])"
   ]
  },
  {
   "cell_type": "code",
   "execution_count": null,
   "metadata": {
    "id": "3uAQdMUFfsnp"
   },
   "outputs": [],
   "source": [
    "user_model1 = tf.keras.Sequential([\n",
    "  tf.keras.layers.StringLookup(\n",
    "      vocabulary=unique_user_area, mask_token=None),\n",
    "  # We add an additional embedding to account for unknown tokens.\n",
    "  tf.keras.layers.Embedding(len(unique_user_area) + 1, 30)\n",
    "])"
   ]
  },
  {
   "cell_type": "code",
   "execution_count": null,
   "metadata": {
    "id": "Nm_SkRVfpN_E"
   },
   "outputs": [],
   "source": [
    "user_model2 = tf.keras.Sequential([\n",
    "  tf.keras.layers.StringLookup(\n",
    "      vocabulary=unique_user_sale, mask_token=None),\n",
    "  # We add an additional embedding to account for unknown tokens.\n",
    "  tf.keras.layers.Embedding(len(unique_user_sale) + 1, 30)\n",
    "])"
   ]
  },
  {
   "cell_type": "code",
   "execution_count": null,
   "metadata": {
    "id": "yNtA3MKvpNzW"
   },
   "outputs": [],
   "source": [
    "user_model3 = tf.keras.Sequential([\n",
    "  tf.keras.layers.StringLookup(\n",
    "      vocabulary=unique_user_types, mask_token=None),\n",
    "  # We add an additional embedding to account for unknown tokens.\n",
    "  tf.keras.layers.Embedding(len(unique_user_types) + 1, 30)\n",
    "])"
   ]
  },
  {
   "cell_type": "code",
   "execution_count": null,
   "metadata": {
    "id": "pvZlErLbpNlO"
   },
   "outputs": [],
   "source": [
    "user_model4 = tf.keras.Sequential([\n",
    "  tf.keras.layers.StringLookup(\n",
    "      vocabulary=unique_user_city, mask_token=None),\n",
    "  # We add an additional embedding to account for unknown tokens.\n",
    "  tf.keras.layers.Embedding(len(unique_user_city) + 1, 30)\n",
    "])"
   ]
  },
  {
   "cell_type": "code",
   "execution_count": null,
   "metadata": {},
   "outputs": [],
   "source": [
    "user_model5 = tf.keras.Sequential([\n",
    "  tf.keras.layers.StringLookup(\n",
    "      vocabulary=unique_user_city1, mask_token=None),\n",
    "  # We add an additional embedding to account for unknown tokens.\n",
    "  tf.keras.layers.Embedding(len(unique_user_city1) + 1, 30)\n",
    "])"
   ]
  },
  {
   "cell_type": "code",
   "execution_count": null,
   "metadata": {},
   "outputs": [],
   "source": [
    "user_model6 = tf.keras.Sequential([\n",
    "  tf.keras.layers.StringLookup(\n",
    "      vocabulary=unique_user_city2, mask_token=None),\n",
    "  # We add an additional embedding to account for unknown tokens.\n",
    "  tf.keras.layers.Embedding(len(unique_user_city2) + 1, 30)\n",
    "])"
   ]
  },
  {
   "cell_type": "code",
   "execution_count": null,
   "metadata": {
    "id": "CNlZNWJyiXDs"
   },
   "outputs": [],
   "source": [
    "len(unique_user_ids)"
   ]
  },
  {
   "cell_type": "code",
   "execution_count": null,
   "metadata": {
    "id": "PD0I800sd_Da"
   },
   "outputs": [],
   "source": [
    "type(user_model)"
   ]
  },
  {
   "cell_type": "code",
   "execution_count": null,
   "metadata": {},
   "outputs": [],
   "source": []
  },
  {
   "cell_type": "code",
   "execution_count": null,
   "metadata": {
    "id": "qNUwfIJTQ332"
   },
   "outputs": [],
   "source": [
    "product_model = tf.keras.Sequential([\n",
    "  tf.keras.layers.StringLookup(\n",
    "      vocabulary=unique_product_title, mask_token=None),\n",
    "  tf.keras.layers.Embedding(len(unique_product_title) + 1, 210)\n",
    "])"
   ]
  },
  {
   "cell_type": "code",
   "execution_count": null,
   "metadata": {},
   "outputs": [],
   "source": []
  },
  {
   "cell_type": "code",
   "execution_count": null,
   "metadata": {
    "id": "1dLDL6pZVPO8"
   },
   "outputs": [],
   "source": [
    "metrics = tfrs.metrics.FactorizedTopK(\n",
    "  candidates=products.batch(128).map(product_model)\n",
    ")"
   ]
  },
  {
   "cell_type": "code",
   "execution_count": null,
   "metadata": {},
   "outputs": [],
   "source": []
  },
  {
   "cell_type": "code",
   "execution_count": null,
   "metadata": {
    "id": "tJ61Iz2QTBw3"
   },
   "outputs": [],
   "source": [
    "retrieval_task_layer = tfrs.tasks.Retrieval(\n",
    "  metrics=metrics\n",
    ")"
   ]
  },
  {
   "cell_type": "code",
   "execution_count": null,
   "metadata": {
    "id": "1v7vzoILTKoo"
   },
   "outputs": [],
   "source": [
    "# class MovielensModel(tfrs.models.Model):\n",
    "\n",
    "#   def __init__(self, rating_weight: float, retrieval_weight: float) -> None:\n",
    "#     # We take the loss weights in the constructor: this allows us to instantiate\n",
    "#     # several model objects with different loss weights.\n",
    "\n",
    "#     super().__init__()\n",
    "\n",
    "#     embedding_dimension = 32\n",
    "\n",
    "#     # User and movie models.\n",
    "#     self.movie_model: tf.keras.Model = movie_model\n",
    "#     self.user_model: tf.keras.Model = user_model\n",
    "#     self.user_model1: tf.keras.Model = user_model1\n",
    "    \n",
    "#     # A small model to take in user and movie embeddings and predict ratings.\n",
    "#     # We can make this as complicated as we want as long as we output a scalar\n",
    "#     # as our prediction.\n",
    "#     self.rating_model = tf.keras.Sequential([\n",
    "#         tf.keras.layers.Dense(256, activation=\"relu\"),\n",
    "#         tf.keras.layers.Dense(128, activation=\"relu\"),\n",
    "#         tf.keras.layers.Dense(1),\n",
    "#     ])\n",
    "\n",
    "#     # The tasks.\n",
    "\n",
    "#     self.rating_task: tf.keras.layers.Layer = task\n",
    "#     self.retrieval_task: tf.keras.layers.Layer = tfrs.tasks.Retrieval(\n",
    "#         metrics=tfrs.metrics.FactorizedTopK(\n",
    "#             candidates=movies.batch(128).map(self.movie_model)\n",
    "#         )\n",
    "#     )\n",
    "\n",
    "#     # The loss weights.\n",
    "\n",
    "\n",
    "#   def call(self, features: Dict[Text, tf.Tensor]) -> tf.Tensor:\n",
    "#     # We pick out the user features and pass them into the user model.\n",
    "#     user_embeddings = self.user_model(features[\"user_id\"])\n",
    "#     user_embeddings1 = self.user_model1(features[\"Customer_Type\"])\n",
    "#     # And pick out the movie features and pass them into the movie model.\n",
    "#     movie_embeddings = self.movie_model(features[\"movie_title\"])\n",
    "    \n",
    "#     return (\n",
    "#         user_embeddings,\n",
    "#         user_embeddings1,\n",
    "#         # We apply the multi-layered rating model to a concatentation of\n",
    "#         # user and movie embeddings.\n",
    "#         self.rating_model(\n",
    "#             tf.concat([user_embeddings, user_embeddings1], axis=1)\n",
    "#         ),\n",
    "#     )\n",
    "\n",
    "#   def compute_loss(self, features: Dict[Text, tf.Tensor], training=False) -> tf.Tensor:\n",
    "\n",
    "#     ratings = features.pop(\"user_rating\")\n",
    "\n",
    "#     user_embeddings, movie_embeddings, rating_predictions = self(features)\n",
    "\n",
    "#     # We compute the loss for each task.\n",
    "#     rating_loss = self.rating_task(\n",
    "#         labels=ratings,\n",
    "#         predictions=rating_predictions,\n",
    "#     )\n",
    "#     retrieval_loss = self.retrieval_task(user_embeddings, movie_embeddings)\n",
    "\n",
    "#     # And combine them using the loss weights.\n",
    "#     return (self.rating_weight * rating_loss\n",
    "#             + self.retrieval_weight * retrieval_loss)"
   ]
  },
  {
   "cell_type": "code",
   "execution_count": null,
   "metadata": {},
   "outputs": [],
   "source": [
    "user_model"
   ]
  },
  {
   "cell_type": "code",
   "execution_count": null,
   "metadata": {
    "id": "jDDC947sY3hd"
   },
   "outputs": [],
   "source": [
    "class productModel(tfrs.models.Model):\n",
    "  \"\"\"MovieLens candidate generation model\"\"\"\n",
    " \n",
    "  def __init__( self,user_model,user_model1,user_model2,user_model3,user_model4,user_model5,user_model6, product_model,retrieval_task_layer):\n",
    "    \n",
    "    super().__init__()\n",
    "    self.product_model: tf.keras.Model = product_model\n",
    "    self.user_model: tf.keras.Model = user_model\n",
    "    self.user_model1: tf.keras.Model = user_model1\n",
    "    self.user_model2: tf.keras.Model = user_model2\n",
    "    self.user_model3: tf.keras.Model = user_model3\n",
    "    self.user_model4: tf.keras.Model = user_model4\n",
    "    self.user_model5: tf.keras.Model = user_model5\n",
    "    self.user_model6: tf.keras.Model = user_model6\n",
    "    self.retrieval_task_layer: tf.keras.layers.Layer = retrieval_task_layer\n",
    "\n",
    "\n",
    "    \n",
    "    # #self.query_embeddings_ds_1 = tf.keras.layers.Dense(128, activation='relu')\n",
    "    # self.query_embeddings_ds_2 = tf.keras.layers.Dense(64, activation='relu')\n",
    "    # self.query_embeddings_ds_3 = tf.keras.layers.Dense(32, activation='relu')\n",
    "    \n",
    "    # self.positive_candidate_embeddings_ds_1 = tf.keras.layers.Dense(128, activation='relu')\n",
    "    # self.positive_candidate_embeddings_ds_2 = tf.keras.layers.Dense(64, activation='relu')\n",
    "    # self.positive_candidate_embeddings_ds_3 = tf.keras.layers.Dense(32, activation='relu')\n",
    "    \n",
    "    # self.prd_sls_dff_reshape = tf.keras.layers.Reshape([1])#keras.layers.Reshape((None,1))\n",
    "    # self.cst_sls_dff_reshape = tf.keras.layers.Reshape([1])#keras.layers.Reshape((None,1))\n",
    "    # self.int_q_su_reshape = tf.keras.layers.Reshape([1])#keras.layers.Reshape((None,1))\n",
    "    # self.prv_int_q_su_reshape = tf.keras.layers.Reshape([1])#keras.layers.Reshape((None,1))\n",
    "    \n",
    " \n",
    " #def compute_loss(self, features: Dict[Text, tf.Tensor], training=False):\n",
    "  def compute_loss(self, features, training=False) -> tf.Tensor:\n",
    "    \n",
    "    print(features)\n",
    "    user_embeddings = self.user_model(features[\"user_id\"])\n",
    "    user_embeddings1 = self.user_model1(features[\"Area_Code\"])\n",
    "    user_embeddings2 = self.user_model2(features[\"SalesDocumentType\"])\n",
    "    user_embeddings3 = self.user_model3(features[\"Customer_Type\"])\n",
    "    user_embeddings4 = self.user_model4(features[\"city_name\"])\n",
    "    user_embeddings5 = self.user_model5(features[\"OfficeBk\"])\n",
    "    user_embeddings6 = self.user_model6(features[\"ClassBk\"])\n",
    "    product_embeddings = self.product_model(features[\"product_title\"])\n",
    "    \n",
    "    query_embeddings_concats = tf.concat([user_embeddings, user_embeddings1,user_embeddings2,user_embeddings3,user_embeddings4,user_embeddings5,user_embeddings6], axis=1)\n",
    "    \n",
    "#     query_embeddings_final = self.query_embeddings_ds_3(\n",
    "#         self.query_embeddings_ds_2(\n",
    "#             self.query_embeddings_ds_1(\n",
    "#                 query_embeddings_concats\n",
    "#             )\n",
    "#         )\n",
    "#     )\n",
    "    \n",
    "    query_embeddings_final = query_embeddings_concats\n",
    "    \n",
    "    \n",
    "    #t2 = self.res(self.raw_user_age_normalization_layer(features[\"raw_user_age\"]))\n",
    "    \n",
    "    positive_candidate_embeddings_concats = product_embeddings\n",
    "    \n",
    "    positive_candidate_embeddings_final = positive_candidate_embeddings_concats\n",
    "\n",
    "#     print(query_embeddings)\n",
    "#     print(positive_candidate_embeddings)\n",
    "\n",
    "    loss = self.retrieval_task_layer(\n",
    "        query_embeddings_final,\n",
    "        positive_candidate_embeddings_final\n",
    "        # ,compute_metrics=not training  # To speed up training\n",
    "    )\n",
    "    return loss"
   ]
  },
  {
   "cell_type": "code",
   "execution_count": null,
   "metadata": {
    "id": "JjUM1UzPb9yv"
   },
   "outputs": [],
   "source": []
  },
  {
   "cell_type": "code",
   "execution_count": null,
   "metadata": {
    "id": "8n7c5CHFp0ow"
   },
   "outputs": [],
   "source": [
    "# class MovielensModel(tfrs.Model):\n",
    "\n",
    "#   def __init__(self, user_model, movie_model):\n",
    "#     super().__init__()\n",
    "#     self.movie_model: tf.keras.Model = movie_model\n",
    "#     self.user_model: tf.keras.Model = user_model\n",
    "#     self.task: tf.keras.layers.Layer = task\n",
    "\n",
    "#   def compute_loss(self, features: Dict[Text, tf.Tensor], training=False) -> tf.Tensor:\n",
    "#     # We pick out the user features and pass them into the user model.\n",
    "#     user_embeddings = self.user_model(features[\"user_id\"])\n",
    "#     # And pick out the movie features and pass them into the movie model,\n",
    "#     # getting embeddings back.\n",
    "#     positive_movie_embeddings = self.movie_model(features[\"movie_title\"])\n",
    "\n",
    "#     # The task computes the loss and the metrics.\n",
    "#     return self.task(user_embeddings, positive_movie_embeddings)"
   ]
  },
  {
   "cell_type": "code",
   "execution_count": null,
   "metadata": {
    "id": "Z3QywMjqsH4F"
   },
   "outputs": [],
   "source": [
    "# class NoBaseClassMovielensModel(tf.keras.Model):\n",
    "\n",
    "#   def __init__(self, user_model, movie_model):\n",
    "#     super().__init__()\n",
    "#     self.movie_model: tf.keras.Model = movie_model\n",
    "#     self.user_model: tf.keras.Model = user_model\n",
    "#     self.task: tf.keras.layers.Layer = task\n",
    "\n",
    "#   def train_step(self, features: Dict[Text, tf.Tensor]) -> tf.Tensor:\n",
    "\n",
    "#     # Set up a gradient tape to record gradients.\n",
    "#     with tf.GradientTape() as tape:\n",
    "\n",
    "#       # Loss computation.\n",
    "#       user_embeddings = self.user_model(features[\"user_id\"])\n",
    "#       positive_movie_embeddings = self.movie_model(features[\"movie_title\"])\n",
    "#       loss = self.task(user_embeddings, positive_movie_embeddings)\n",
    "\n",
    "#       # Handle regularization losses as well.\n",
    "#       regularization_loss = sum(self.losses)\n",
    "\n",
    "#       total_loss = loss + regularization_loss\n",
    "\n",
    "#     gradients = tape.gradient(total_loss, self.trainable_variables)\n",
    "#     self.optimizer.apply_gradients(zip(gradients, self.trainable_variables))\n",
    "\n",
    "#     metrics = {metric.name: metric.result() for metric in self.metrics}\n",
    "#     metrics[\"loss\"] = loss\n",
    "#     metrics[\"regularization_loss\"] = regularization_loss\n",
    "#     metrics[\"total_loss\"] = total_loss\n",
    "\n",
    "#     return metrics\n",
    "\n",
    "#   def test_step(self, features: Dict[Text, tf.Tensor]) -> tf.Tensor:\n",
    "\n",
    "#     # Loss computation.\n",
    "#     user_embeddings = self.user_model(features[\"user_id\"])\n",
    "#     positive_movie_embeddings = self.movie_model(features[\"movie_title\"])\n",
    "#     loss = self.task(user_embeddings, positive_movie_embeddings)\n",
    "\n",
    "#     # Handle regularization losses as well.\n",
    "#     regularization_loss = sum(self.losses)\n",
    "\n",
    "#     total_loss = loss + regularization_loss\n",
    "\n",
    "#     metrics = {metric.name: metric.result() for metric in self.metrics}\n",
    "#     metrics[\"loss\"] = loss\n",
    "#     metrics[\"regularization_loss\"] = regularization_loss\n",
    "#     metrics[\"total_loss\"] = total_loss\n",
    "\n",
    "#     return metrics"
   ]
  },
  {
   "cell_type": "code",
   "execution_count": null,
   "metadata": {
    "id": "JDWTdMj3yaik"
   },
   "outputs": [],
   "source": [
    "# class MovielensModel(tfrs.models.Model):\n",
    "#   \"\"\"MovieLens candidate generation model\"\"\"\n",
    " \n",
    "#   def __init__( self,user_model,product_model,retrieval_task_layer):\n",
    "    \n",
    "#     super().__init__()\n",
    "#     self.product_model: tf.keras.Model = product_model\n",
    "#     self.user_model: tf.keras.Model = user_model\n",
    "#     # self.user_model1: tf.keras.Model = user_model1\n",
    "#     # self.user_model2: tf.keras.Model = user_model2\n",
    "#     # self.user_model3: tf.keras.Model = user_model3\n",
    "#     # self.user_model4: tf.keras.Model = user_model4\n",
    "#     self.retrieval_task_layer: tf.keras.layers.Layer = retrieval_task_layer\n",
    "\n",
    "\n",
    "    \n",
    "#     # #self.query_embeddings_ds_1 = tf.keras.layers.Dense(128, activation='relu')\n",
    "#     # self.query_embeddings_ds_2 = tf.keras.layers.Dense(64, activation='relu')\n",
    "#     # self.query_embeddings_ds_3 = tf.keras.layers.Dense(32, activation='relu')\n",
    "    \n",
    "#     # self.positive_candidate_embeddings_ds_1 = tf.keras.layers.Dense(128, activation='relu')\n",
    "#     # self.positive_candidate_embeddings_ds_2 = tf.keras.layers.Dense(64, activation='relu')\n",
    "#     # self.positive_candidate_embeddings_ds_3 = tf.keras.layers.Dense(32, activation='relu')\n",
    "    \n",
    "#     # self.prd_sls_dff_reshape = tf.keras.layers.Reshape([1])#keras.layers.Reshape((None,1))\n",
    "#     # self.cst_sls_dff_reshape = tf.keras.layers.Reshape([1])#keras.layers.Reshape((None,1))\n",
    "#     # self.int_q_su_reshape = tf.keras.layers.Reshape([1])#keras.layers.Reshape((None,1))\n",
    "#     # self.prv_int_q_su_reshape = tf.keras.layers.Reshape([1])#keras.layers.Reshape((None,1))\n",
    "    \n",
    " \n",
    "#  #def compute_loss(self, features: Dict[Text, tf.Tensor], training=False):\n",
    "#   def compute_loss(self, features, training=False) -> tf.Tensor:\n",
    "    \n",
    "#     print(features)\n",
    "#     user_embeddings = self.user_model(features[\"user_id\"])\n",
    "\n",
    "#     product_embeddings = self.product_model(features[\"product_title\"])\n",
    "    \n",
    "#     query_embeddings_concats = user_embeddings\n",
    "    \n",
    "# #     query_embeddings_final = self.query_embeddings_ds_3(\n",
    "# #         self.query_embeddings_ds_2(\n",
    "# #             self.query_embeddings_ds_1(\n",
    "# #                 query_embeddings_concats\n",
    "# #             )\n",
    "# #         )\n",
    "# #     )\n",
    "    \n",
    "#     query_embeddings_final = query_embeddings_concats\n",
    "    \n",
    "    \n",
    "#     #t2 = self.res(self.raw_user_age_normalization_layer(features[\"raw_user_age\"]))\n",
    "    \n",
    "#     positive_candidate_embeddings_concats = product_embeddings\n",
    "    \n",
    "#     positive_candidate_embeddings_final = positive_candidate_embeddings_concats\n",
    "\n",
    "# #     print(query_embeddings)\n",
    "# #     print(positive_candidate_embeddings)\n",
    "\n",
    "#     loss = self.retrieval_task_layer(\n",
    "#         query_embeddings_final,\n",
    "#         positive_candidate_embeddings_final\n",
    "#         # ,compute_metrics=not training  # To speed up training\n",
    "#     )\n",
    "#     return loss"
   ]
  },
  {
   "cell_type": "code",
   "execution_count": null,
   "metadata": {},
   "outputs": [],
   "source": []
  },
  {
   "cell_type": "code",
   "execution_count": null,
   "metadata": {},
   "outputs": [],
   "source": [
    "len(df)"
   ]
  },
  {
   "cell_type": "code",
   "execution_count": null,
   "metadata": {
    "id": "aW63YaqP2wCf"
   },
   "outputs": [],
   "source": [
    "model = productModel(user_model,user_model1,user_model2,user_model3,user_model4,user_model5,user_model6, product_model,retrieval_task_layer)\n",
    "model.compile(optimizer=tf.keras.optimizers.Adagrad(learning_rate=0.1))"
   ]
  },
  {
   "cell_type": "code",
   "execution_count": null,
   "metadata": {
    "id": "y9N-UF_6y5MJ"
   },
   "outputs": [],
   "source": [
    "# model = MovielensModel(user_model, product_model,retrieval_task_layer)\n",
    "# model.compile(optimizer=tf.keras.optimizers.Adagrad(learning_rate=0.1))"
   ]
  },
  {
   "cell_type": "code",
   "execution_count": null,
   "metadata": {
    "id": "53QJwY1gUnfv"
   },
   "outputs": [],
   "source": [
    "cached_train = train.shuffle(9036061).batch(8192).cache()\n",
    "cached_test = test.batch(4096).cache()"
   ]
  },
  {
   "cell_type": "code",
   "execution_count": null,
   "metadata": {
    "id": "ZxPntlT8EFOZ"
   },
   "outputs": [],
   "source": [
    "model.fit(cached_train, epochs=7)"
   ]
  },
  {
   "cell_type": "markdown",
   "metadata": {},
   "source": [
    "# خواندن لیست مشتریانی که تا کنون تراکنش داشته اند به همراه 8 فیچر آنها "
   ]
  },
  {
   "cell_type": "code",
   "execution_count": null,
   "metadata": {},
   "outputs": [],
   "source": [
    "dd = pd.read_csv('cust_list_tran_14010425.csv')"
   ]
  },
  {
   "cell_type": "code",
   "execution_count": null,
   "metadata": {},
   "outputs": [],
   "source": [
    "dd"
   ]
  },
  {
   "cell_type": "markdown",
   "metadata": {},
   "source": [
    "# خواندن لیست مشتریانی که تا کنون تراکنش نداشته اند به همراه 8 فیچر آنها "
   ]
  },
  {
   "cell_type": "code",
   "execution_count": null,
   "metadata": {},
   "outputs": [],
   "source": [
    "dg = pd.read_csv('cust_list_noTran_14010425.csv')"
   ]
  },
  {
   "cell_type": "code",
   "execution_count": null,
   "metadata": {},
   "outputs": [],
   "source": [
    "dg"
   ]
  },
  {
   "cell_type": "code",
   "execution_count": null,
   "metadata": {},
   "outputs": [],
   "source": [
    "# len(pd.unique(df['CustomerBk']))"
   ]
  },
  {
   "cell_type": "code",
   "execution_count": null,
   "metadata": {},
   "outputs": [],
   "source": [
    "# df1=df.drop_duplicates('CustomerBk', keep='first')"
   ]
  },
  {
   "cell_type": "code",
   "execution_count": null,
   "metadata": {},
   "outputs": [],
   "source": [
    "df['CityTitle'][0]"
   ]
  },
  {
   "cell_type": "code",
   "execution_count": null,
   "metadata": {},
   "outputs": [],
   "source": [
    "dd=dd[['CustomerBk','CustomerTypeBk','AreaBk','CityTitle','OfficeBk','DistPathCode','LastCustomerClassBk']]"
   ]
  },
  {
   "cell_type": "code",
   "execution_count": null,
   "metadata": {},
   "outputs": [],
   "source": [
    "dg=dg[['CustomerBk','CustomerTypeBk','AreaBk','CityTitle','OfficeBk','DistPathCode','LastCustomerClassBk']]"
   ]
  },
  {
   "cell_type": "markdown",
   "metadata": {},
   "source": [
    "# تجمیع کل مشتریان"
   ]
  },
  {
   "cell_type": "code",
   "execution_count": null,
   "metadata": {},
   "outputs": [],
   "source": [
    "dr = pd.concat([dd,dg])"
   ]
  },
  {
   "cell_type": "code",
   "execution_count": null,
   "metadata": {},
   "outputs": [],
   "source": [
    "dr"
   ]
  },
  {
   "cell_type": "code",
   "execution_count": null,
   "metadata": {},
   "outputs": [],
   "source": [
    "dr2=dr.reset_index()"
   ]
  },
  {
   "cell_type": "code",
   "execution_count": null,
   "metadata": {},
   "outputs": [],
   "source": [
    "dr3=dr2.iloc[:,1:]"
   ]
  },
  {
   "cell_type": "code",
   "execution_count": null,
   "metadata": {},
   "outputs": [],
   "source": [
    "# bbb=[156,959,972]"
   ]
  },
  {
   "cell_type": "code",
   "execution_count": null,
   "metadata": {},
   "outputs": [],
   "source": [
    "dr3"
   ]
  },
  {
   "cell_type": "code",
   "execution_count": null,
   "metadata": {},
   "outputs": [],
   "source": [
    "# for i in range(len(dr2)):\n",
    "#     dr2['OfficeBk'][i] = int(dr2['OfficeBk'][i])\n",
    "    "
   ]
  },
  {
   "cell_type": "code",
   "execution_count": null,
   "metadata": {},
   "outputs": [],
   "source": [
    "type(dr2['OfficeBk'][97892])"
   ]
  },
  {
   "cell_type": "code",
   "execution_count": null,
   "metadata": {},
   "outputs": [],
   "source": [
    "aaa"
   ]
  },
  {
   "cell_type": "code",
   "execution_count": null,
   "metadata": {},
   "outputs": [],
   "source": [
    "dr2"
   ]
  },
  {
   "cell_type": "code",
   "execution_count": null,
   "metadata": {},
   "outputs": [],
   "source": [
    "dr2.to_csv('dr2.csv',index=False)"
   ]
  },
  {
   "cell_type": "code",
   "execution_count": null,
   "metadata": {},
   "outputs": [],
   "source": []
  },
  {
   "cell_type": "code",
   "execution_count": null,
   "metadata": {},
   "outputs": [],
   "source": []
  },
  {
   "cell_type": "code",
   "execution_count": null,
   "metadata": {},
   "outputs": [],
   "source": [
    "dr2 = pd.read_csv('dr2.csv')"
   ]
  },
  {
   "cell_type": "code",
   "execution_count": null,
   "metadata": {},
   "outputs": [],
   "source": [
    "dr2"
   ]
  },
  {
   "cell_type": "markdown",
   "metadata": {},
   "source": [
    "# جدا کردن مشتریان کلانشهرها"
   ]
  },
  {
   "cell_type": "code",
   "execution_count": null,
   "metadata": {},
   "outputs": [],
   "source": [
    "lll=[]\n",
    "lll1 = []\n",
    "for i in range(len(dr2)):\n",
    "    if dr2['OfficeBk'][i] in aaa:\n",
    "        lll.append(i)  \n",
    "    else:\n",
    "        lll1.append(i)"
   ]
  },
  {
   "cell_type": "code",
   "execution_count": null,
   "metadata": {},
   "outputs": [],
   "source": [
    "dr3=dr2.iloc[lll]"
   ]
  },
  {
   "cell_type": "code",
   "execution_count": null,
   "metadata": {},
   "outputs": [],
   "source": [
    "dr3=dr3.reset_index()"
   ]
  },
  {
   "cell_type": "code",
   "execution_count": null,
   "metadata": {},
   "outputs": [],
   "source": [
    "# dd4=dr3.iloc[:,2:]"
   ]
  },
  {
   "cell_type": "code",
   "execution_count": null,
   "metadata": {},
   "outputs": [],
   "source": [
    "# dd4"
   ]
  },
  {
   "cell_type": "code",
   "execution_count": null,
   "metadata": {},
   "outputs": [],
   "source": [
    "df = dr3[['CustomerBk','CustomerTypeBk','AreaBk','CityTitle','OfficeBk','DistPathCode','LastCustomerClassBk']]"
   ]
  },
  {
   "cell_type": "code",
   "execution_count": null,
   "metadata": {},
   "outputs": [],
   "source": [
    "df"
   ]
  },
  {
   "cell_type": "code",
   "execution_count": null,
   "metadata": {},
   "outputs": [],
   "source": [
    "df['CustomerBk'] = df['CustomerBk'].astype(str)\n",
    "df['CustomerTypeBk'] = df['CustomerTypeBk'].astype(str)\n",
    "df['AreaBk'] = df['AreaBk'].astype(str)\n",
    "df['CityTitle'] = df['CityTitle'].astype(str)\n",
    "df['OfficeBk'] = df['OfficeBk'].astype(str)\n",
    "df['DistPathCode'] = df['DistPathCode'].astype(str)\n",
    "df['LastCustomerClassBk'] = df['LastCustomerClassBk'].astype(str)"
   ]
  },
  {
   "cell_type": "code",
   "execution_count": null,
   "metadata": {},
   "outputs": [],
   "source": [
    "df"
   ]
  },
  {
   "cell_type": "code",
   "execution_count": null,
   "metadata": {},
   "outputs": [],
   "source": [
    "df5=df.iloc[:10000,:]"
   ]
  },
  {
   "cell_type": "code",
   "execution_count": null,
   "metadata": {},
   "outputs": [],
   "source": [
    "df5=df5.reset_index()"
   ]
  },
  {
   "cell_type": "code",
   "execution_count": null,
   "metadata": {},
   "outputs": [],
   "source": [
    "df5=df5.iloc[:,1:]"
   ]
  },
  {
   "cell_type": "code",
   "execution_count": null,
   "metadata": {},
   "outputs": [],
   "source": [
    "df5"
   ]
  },
  {
   "cell_type": "code",
   "execution_count": null,
   "metadata": {},
   "outputs": [],
   "source": [
    "features = ['CustomerBk','AreaBk','DistPathCode','CustomerTypeBk','CityTitle','OfficeBk','LastCustomerClassBk'] \n",
    "dataset = (\n",
    "    tf.data.Dataset.from_tensor_slices(\n",
    "        (\n",
    "            tf.cast(df5[features].values, tf.string)\n",
    "            \n",
    "        )\n",
    "    )\n",
    ")"
   ]
  },
  {
   "cell_type": "code",
   "execution_count": null,
   "metadata": {},
   "outputs": [],
   "source": [
    "ratings = (dataset\n",
    "           .map(lambda rating: {'user_id': rating[0],'Area_Code':rating[1],'SalesDocumentType':rating[2],'Customer_Type':rating[3],'city_name':rating[4],'OfficeBk':rating[5],'ClassBk':rating[6]})\n",
    "           .cache(tempfile.NamedTemporaryFile().name)\n",
    ")"
   ]
  },
  {
   "cell_type": "code",
   "execution_count": null,
   "metadata": {},
   "outputs": [],
   "source": [
    "tf.random.set_seed(42)\n",
    "shuffled = ratings.shuffle(10000 , seed=42, reshuffle_each_iteration=False)\n",
    "\n",
    "train = shuffled.take(10000)\n"
   ]
  },
  {
   "cell_type": "code",
   "execution_count": null,
   "metadata": {},
   "outputs": [],
   "source": [
    "l=[]\n",
    "for i in range(10000):\n",
    "    l1=[]\n",
    "    # index = tfrs.layers.factorized_top_k.BruteForce(model.user_model,100)\n",
    "    # # recommends movies out of the entire movies dataset.\n",
    "    # index.index_from_dataset(\n",
    "    #   tf.data.Dataset.zip((products.batch(100), products.batch(100).map(product_model)))\n",
    "    # )\n",
    "    brute_force_layer = tfrs.layers.factorized_top_k.BruteForce(k=150)\n",
    "    brute_force_layer.index_from_dataset(\n",
    "      tf.data.Dataset.zip((products.batch(100), products.batch(100).map(product_model)))\n",
    "    )\n",
    "\n",
    "    cached_test = train.batch(1)\n",
    "\n",
    "    test_sample = cached_test.skip(i).take(1)\n",
    "    test_sample_map = test_sample.map(\n",
    "            lambda features: tf.concat([model.user_model(features[\"user_id\"]), model.user_model1(features[\"Area_Code\"]),model.user_model2(features[\"SalesDocumentType\"]),model.user_model3(features[\"Customer_Type\"]), model.user_model4(features[\"city_name\"]), model.user_model5(features[\"OfficeBk\"]), model.user_model6(features[\"ClassBk\"])], axis=1)\n",
    "        )\n",
    "\n",
    "    test_sample_map_arr = []\n",
    "    for item in test_sample_map.take(1).as_numpy_iterator():\n",
    "        test_sample_map_arr.append(item[0])\n",
    "    test_sample_map_arr = np.array(test_sample_map_arr)\n",
    "\n",
    "    afinity_scores, a = brute_force_layer(test_sample_map_arr)\n",
    "\n",
    "    for item in test_sample.as_numpy_iterator():\n",
    "        print(f\"Recommendations for user {item['user_id']} using BruteForce: {i}\")\n",
    "        # ppp = 1\n",
    "\n",
    "    l1.append(int(item['user_id']))\n",
    "    # Get recommendations.\n",
    "    # _, titles = index(tf.constant([i]))\n",
    "    z=list(a[0, :150].numpy())\n",
    "    for j in z:\n",
    "        l1.append(int(j))\n",
    "        \n",
    "    l.append(l1)"
   ]
  },
  {
   "cell_type": "code",
   "execution_count": null,
   "metadata": {},
   "outputs": [],
   "source": [
    "len(l)"
   ]
  },
  {
   "cell_type": "code",
   "execution_count": null,
   "metadata": {},
   "outputs": [],
   "source": [
    "dd1=pd.DataFrame(l)"
   ]
  },
  {
   "cell_type": "code",
   "execution_count": null,
   "metadata": {},
   "outputs": [],
   "source": [
    "dd1"
   ]
  },
  {
   "cell_type": "code",
   "execution_count": null,
   "metadata": {},
   "outputs": [],
   "source": [
    "dd1.to_csv('part1.csv')"
   ]
  },
  {
   "cell_type": "code",
   "execution_count": null,
   "metadata": {},
   "outputs": [],
   "source": []
  },
  {
   "cell_type": "code",
   "execution_count": null,
   "metadata": {},
   "outputs": [],
   "source": []
  },
  {
   "cell_type": "code",
   "execution_count": null,
   "metadata": {},
   "outputs": [],
   "source": [
    "df5=df.iloc[10000:20000,:]"
   ]
  },
  {
   "cell_type": "code",
   "execution_count": null,
   "metadata": {},
   "outputs": [],
   "source": [
    "df5=df5.reset_index()"
   ]
  },
  {
   "cell_type": "code",
   "execution_count": null,
   "metadata": {},
   "outputs": [],
   "source": [
    "df5=df5.iloc[:,1:]"
   ]
  },
  {
   "cell_type": "code",
   "execution_count": null,
   "metadata": {},
   "outputs": [],
   "source": [
    "df5"
   ]
  },
  {
   "cell_type": "code",
   "execution_count": null,
   "metadata": {},
   "outputs": [],
   "source": [
    "features = ['CustomerBk','AreaBk','DistPathCode','CustomerTypeBk','CityTitle','OfficeBk','LastCustomerClassBk'] \n",
    "dataset = (\n",
    "    tf.data.Dataset.from_tensor_slices(\n",
    "        (\n",
    "            tf.cast(df5[features].values, tf.string)\n",
    "            \n",
    "        )\n",
    "    )\n",
    ")"
   ]
  },
  {
   "cell_type": "code",
   "execution_count": null,
   "metadata": {},
   "outputs": [],
   "source": [
    "ratings = (dataset\n",
    "           .map(lambda rating: {'user_id': rating[0],'Area_Code':rating[1],'SalesDocumentType':rating[2],'Customer_Type':rating[3],'city_name':rating[4],'OfficeBk':rating[5],'ClassBk':rating[6]})\n",
    "           .cache(tempfile.NamedTemporaryFile().name)\n",
    ")"
   ]
  },
  {
   "cell_type": "code",
   "execution_count": null,
   "metadata": {},
   "outputs": [],
   "source": [
    "tf.random.set_seed(42)\n",
    "shuffled = ratings.shuffle(10000 , seed=42, reshuffle_each_iteration=False)\n",
    "\n",
    "train = shuffled.take(10000)\n"
   ]
  },
  {
   "cell_type": "code",
   "execution_count": null,
   "metadata": {},
   "outputs": [],
   "source": [
    "l=[]\n",
    "for i in range(10000):\n",
    "    l1=[]\n",
    "    # index = tfrs.layers.factorized_top_k.BruteForce(model.user_model,100)\n",
    "    # # recommends movies out of the entire movies dataset.\n",
    "    # index.index_from_dataset(\n",
    "    #   tf.data.Dataset.zip((products.batch(100), products.batch(100).map(product_model)))\n",
    "    # )\n",
    "    brute_force_layer = tfrs.layers.factorized_top_k.BruteForce(k=150)\n",
    "    brute_force_layer.index_from_dataset(\n",
    "      tf.data.Dataset.zip((products.batch(100), products.batch(100).map(product_model)))\n",
    "    )\n",
    "\n",
    "    cached_test = train.batch(1)\n",
    "\n",
    "    test_sample = cached_test.skip(i).take(1)\n",
    "    test_sample_map = test_sample.map(\n",
    "            lambda features: tf.concat([model.user_model(features[\"user_id\"]), model.user_model1(features[\"Area_Code\"]),model.user_model2(features[\"SalesDocumentType\"]),model.user_model3(features[\"Customer_Type\"]), model.user_model4(features[\"city_name\"]), model.user_model5(features[\"OfficeBk\"]), model.user_model6(features[\"ClassBk\"])], axis=1)\n",
    "        )\n",
    "\n",
    "    test_sample_map_arr = []\n",
    "    for item in test_sample_map.take(1).as_numpy_iterator():\n",
    "        test_sample_map_arr.append(item[0])\n",
    "    test_sample_map_arr = np.array(test_sample_map_arr)\n",
    "\n",
    "    afinity_scores, a = brute_force_layer(test_sample_map_arr)\n",
    "\n",
    "    for item in test_sample.as_numpy_iterator():\n",
    "        print(f\"Recommendations for user {item['user_id']} using BruteForce: {i}\")\n",
    "        # ppp = 1\n",
    "\n",
    "    l1.append(int(item['user_id']))\n",
    "    # Get recommendations.\n",
    "    # _, titles = index(tf.constant([i]))\n",
    "    z=list(a[0, :150].numpy())\n",
    "    for j in z:\n",
    "        l1.append(int(j))\n",
    "        \n",
    "    l.append(l1)"
   ]
  },
  {
   "cell_type": "code",
   "execution_count": null,
   "metadata": {},
   "outputs": [],
   "source": [
    "len(l)"
   ]
  },
  {
   "cell_type": "code",
   "execution_count": null,
   "metadata": {},
   "outputs": [],
   "source": [
    "dd1=pd.DataFrame(l)"
   ]
  },
  {
   "cell_type": "code",
   "execution_count": null,
   "metadata": {},
   "outputs": [],
   "source": [
    "dd1"
   ]
  },
  {
   "cell_type": "code",
   "execution_count": null,
   "metadata": {},
   "outputs": [],
   "source": [
    "dd1.to_csv('part2.csv')"
   ]
  },
  {
   "cell_type": "code",
   "execution_count": null,
   "metadata": {},
   "outputs": [],
   "source": []
  },
  {
   "cell_type": "code",
   "execution_count": null,
   "metadata": {},
   "outputs": [],
   "source": []
  },
  {
   "cell_type": "code",
   "execution_count": null,
   "metadata": {},
   "outputs": [],
   "source": []
  },
  {
   "cell_type": "code",
   "execution_count": null,
   "metadata": {},
   "outputs": [],
   "source": [
    "df5=df.iloc[20000:30000,:]"
   ]
  },
  {
   "cell_type": "code",
   "execution_count": null,
   "metadata": {},
   "outputs": [],
   "source": [
    "df5=df5.reset_index()"
   ]
  },
  {
   "cell_type": "code",
   "execution_count": null,
   "metadata": {},
   "outputs": [],
   "source": [
    "df5=df5.iloc[:,1:]"
   ]
  },
  {
   "cell_type": "code",
   "execution_count": null,
   "metadata": {},
   "outputs": [],
   "source": [
    "df5"
   ]
  },
  {
   "cell_type": "code",
   "execution_count": null,
   "metadata": {},
   "outputs": [],
   "source": [
    "features = ['CustomerBk','AreaBk','DistPathCode','CustomerTypeBk','CityTitle','OfficeBk','LastCustomerClassBk'] \n",
    "dataset = (\n",
    "    tf.data.Dataset.from_tensor_slices(\n",
    "        (\n",
    "            tf.cast(df5[features].values, tf.string)\n",
    "            \n",
    "        )\n",
    "    )\n",
    ")"
   ]
  },
  {
   "cell_type": "code",
   "execution_count": null,
   "metadata": {},
   "outputs": [],
   "source": [
    "ratings = (dataset\n",
    "           .map(lambda rating: {'user_id': rating[0],'Area_Code':rating[1],'SalesDocumentType':rating[2],'Customer_Type':rating[3],'city_name':rating[4],'OfficeBk':rating[5],'ClassBk':rating[6]})\n",
    "           .cache(tempfile.NamedTemporaryFile().name)\n",
    ")"
   ]
  },
  {
   "cell_type": "code",
   "execution_count": null,
   "metadata": {},
   "outputs": [],
   "source": [
    "tf.random.set_seed(42)\n",
    "shuffled = ratings.shuffle(10000 , seed=42, reshuffle_each_iteration=False)\n",
    "\n",
    "train = shuffled.take(10000)\n"
   ]
  },
  {
   "cell_type": "code",
   "execution_count": null,
   "metadata": {},
   "outputs": [],
   "source": [
    "l=[]\n",
    "for i in range(10000):\n",
    "    l1=[]\n",
    "    # index = tfrs.layers.factorized_top_k.BruteForce(model.user_model,100)\n",
    "    # # recommends movies out of the entire movies dataset.\n",
    "    # index.index_from_dataset(\n",
    "    #   tf.data.Dataset.zip((products.batch(100), products.batch(100).map(product_model)))\n",
    "    # )\n",
    "    brute_force_layer = tfrs.layers.factorized_top_k.BruteForce(k=150)\n",
    "    brute_force_layer.index_from_dataset(\n",
    "      tf.data.Dataset.zip((products.batch(100), products.batch(100).map(product_model)))\n",
    "    )\n",
    "\n",
    "    cached_test = train.batch(1)\n",
    "\n",
    "    test_sample = cached_test.skip(i).take(1)\n",
    "    test_sample_map = test_sample.map(\n",
    "            lambda features: tf.concat([model.user_model(features[\"user_id\"]), model.user_model1(features[\"Area_Code\"]),model.user_model2(features[\"SalesDocumentType\"]),model.user_model3(features[\"Customer_Type\"]), model.user_model4(features[\"city_name\"]), model.user_model5(features[\"OfficeBk\"]), model.user_model6(features[\"ClassBk\"])], axis=1)\n",
    "        )\n",
    "\n",
    "    test_sample_map_arr = []\n",
    "    for item in test_sample_map.take(1).as_numpy_iterator():\n",
    "        test_sample_map_arr.append(item[0])\n",
    "    test_sample_map_arr = np.array(test_sample_map_arr)\n",
    "\n",
    "    afinity_scores, a = brute_force_layer(test_sample_map_arr)\n",
    "\n",
    "    for item in test_sample.as_numpy_iterator():\n",
    "        print(f\"Recommendations for user {item['user_id']} using BruteForce: {i}\")\n",
    "        # ppp = 1\n",
    "\n",
    "    l1.append(int(item['user_id']))\n",
    "    # Get recommendations.\n",
    "    # _, titles = index(tf.constant([i]))\n",
    "    z=list(a[0, :150].numpy())\n",
    "    for j in z:\n",
    "        l1.append(int(j))\n",
    "        \n",
    "    l.append(l1)"
   ]
  },
  {
   "cell_type": "code",
   "execution_count": null,
   "metadata": {},
   "outputs": [],
   "source": [
    "len(l)"
   ]
  },
  {
   "cell_type": "code",
   "execution_count": null,
   "metadata": {},
   "outputs": [],
   "source": [
    "dd1=pd.DataFrame(l)"
   ]
  },
  {
   "cell_type": "code",
   "execution_count": null,
   "metadata": {},
   "outputs": [],
   "source": [
    "dd1"
   ]
  },
  {
   "cell_type": "code",
   "execution_count": null,
   "metadata": {},
   "outputs": [],
   "source": [
    "dd1.to_csv('part3.csv')"
   ]
  },
  {
   "cell_type": "code",
   "execution_count": null,
   "metadata": {},
   "outputs": [],
   "source": []
  },
  {
   "cell_type": "code",
   "execution_count": null,
   "metadata": {},
   "outputs": [],
   "source": []
  },
  {
   "cell_type": "code",
   "execution_count": null,
   "metadata": {},
   "outputs": [],
   "source": [
    "df5=df.iloc[30000:40000,:]"
   ]
  },
  {
   "cell_type": "code",
   "execution_count": null,
   "metadata": {},
   "outputs": [],
   "source": [
    "df5=df5.reset_index()"
   ]
  },
  {
   "cell_type": "code",
   "execution_count": null,
   "metadata": {},
   "outputs": [],
   "source": [
    "df5=df5.iloc[:,1:]"
   ]
  },
  {
   "cell_type": "code",
   "execution_count": null,
   "metadata": {},
   "outputs": [],
   "source": [
    "df5"
   ]
  },
  {
   "cell_type": "code",
   "execution_count": null,
   "metadata": {},
   "outputs": [],
   "source": [
    "features = ['CustomerBk','AreaBk','DistPathCode','CustomerTypeBk','CityTitle','OfficeBk','LastCustomerClassBk'] \n",
    "dataset = (\n",
    "    tf.data.Dataset.from_tensor_slices(\n",
    "        (\n",
    "            tf.cast(df5[features].values, tf.string)\n",
    "            \n",
    "        )\n",
    "    )\n",
    ")"
   ]
  },
  {
   "cell_type": "code",
   "execution_count": null,
   "metadata": {},
   "outputs": [],
   "source": [
    "ratings = (dataset\n",
    "           .map(lambda rating: {'user_id': rating[0],'Area_Code':rating[1],'SalesDocumentType':rating[2],'Customer_Type':rating[3],'city_name':rating[4],'OfficeBk':rating[5],'ClassBk':rating[6]})\n",
    "           .cache(tempfile.NamedTemporaryFile().name)\n",
    ")"
   ]
  },
  {
   "cell_type": "code",
   "execution_count": null,
   "metadata": {},
   "outputs": [],
   "source": [
    "tf.random.set_seed(42)\n",
    "shuffled = ratings.shuffle(10000 , seed=42, reshuffle_each_iteration=False)\n",
    "\n",
    "train = shuffled.take(10000)\n"
   ]
  },
  {
   "cell_type": "code",
   "execution_count": null,
   "metadata": {},
   "outputs": [],
   "source": [
    "l=[]\n",
    "for i in range(10000):\n",
    "    l1=[]\n",
    "    # index = tfrs.layers.factorized_top_k.BruteForce(model.user_model,100)\n",
    "    # # recommends movies out of the entire movies dataset.\n",
    "    # index.index_from_dataset(\n",
    "    #   tf.data.Dataset.zip((products.batch(100), products.batch(100).map(product_model)))\n",
    "    # )\n",
    "    brute_force_layer = tfrs.layers.factorized_top_k.BruteForce(k=150)\n",
    "    brute_force_layer.index_from_dataset(\n",
    "      tf.data.Dataset.zip((products.batch(100), products.batch(100).map(product_model)))\n",
    "    )\n",
    "\n",
    "    cached_test = train.batch(1)\n",
    "\n",
    "    test_sample = cached_test.skip(i).take(1)\n",
    "    test_sample_map = test_sample.map(\n",
    "            lambda features: tf.concat([model.user_model(features[\"user_id\"]), model.user_model1(features[\"Area_Code\"]),model.user_model2(features[\"SalesDocumentType\"]),model.user_model3(features[\"Customer_Type\"]), model.user_model4(features[\"city_name\"]), model.user_model5(features[\"OfficeBk\"]), model.user_model6(features[\"ClassBk\"])], axis=1)\n",
    "        )\n",
    "\n",
    "    test_sample_map_arr = []\n",
    "    for item in test_sample_map.take(1).as_numpy_iterator():\n",
    "        test_sample_map_arr.append(item[0])\n",
    "    test_sample_map_arr = np.array(test_sample_map_arr)\n",
    "\n",
    "    afinity_scores, a = brute_force_layer(test_sample_map_arr)\n",
    "\n",
    "    for item in test_sample.as_numpy_iterator():\n",
    "        print(f\"Recommendations for user {item['user_id']} using BruteForce: {i}\")\n",
    "        # ppp = 1\n",
    "\n",
    "    l1.append(int(item['user_id']))\n",
    "    # Get recommendations.\n",
    "    # _, titles = index(tf.constant([i]))\n",
    "    z=list(a[0, :150].numpy())\n",
    "    for j in z:\n",
    "        l1.append(int(j))\n",
    "        \n",
    "    l.append(l1)"
   ]
  },
  {
   "cell_type": "code",
   "execution_count": null,
   "metadata": {},
   "outputs": [],
   "source": [
    "len(l)"
   ]
  },
  {
   "cell_type": "code",
   "execution_count": null,
   "metadata": {},
   "outputs": [],
   "source": [
    "dd1=pd.DataFrame(l)"
   ]
  },
  {
   "cell_type": "code",
   "execution_count": null,
   "metadata": {},
   "outputs": [],
   "source": [
    "dd1"
   ]
  },
  {
   "cell_type": "code",
   "execution_count": null,
   "metadata": {},
   "outputs": [],
   "source": [
    "dd1.to_csv('part4.csv')"
   ]
  },
  {
   "cell_type": "code",
   "execution_count": null,
   "metadata": {},
   "outputs": [],
   "source": []
  },
  {
   "cell_type": "code",
   "execution_count": null,
   "metadata": {},
   "outputs": [],
   "source": []
  },
  {
   "cell_type": "code",
   "execution_count": null,
   "metadata": {},
   "outputs": [],
   "source": [
    "df5=df.iloc[40000:,:]"
   ]
  },
  {
   "cell_type": "code",
   "execution_count": null,
   "metadata": {},
   "outputs": [],
   "source": [
    "df5=df5.reset_index()"
   ]
  },
  {
   "cell_type": "code",
   "execution_count": null,
   "metadata": {},
   "outputs": [],
   "source": [
    "df5=df5.iloc[:,1:]"
   ]
  },
  {
   "cell_type": "code",
   "execution_count": null,
   "metadata": {},
   "outputs": [],
   "source": [
    "df5"
   ]
  },
  {
   "cell_type": "code",
   "execution_count": null,
   "metadata": {},
   "outputs": [],
   "source": [
    "features = ['CustomerBk','AreaBk','DistPathCode','CustomerTypeBk','CityTitle','OfficeBk','LastCustomerClassBk'] \n",
    "dataset = (\n",
    "    tf.data.Dataset.from_tensor_slices(\n",
    "        (\n",
    "            tf.cast(df5[features].values, tf.string)\n",
    "            \n",
    "        )\n",
    "    )\n",
    ")"
   ]
  },
  {
   "cell_type": "code",
   "execution_count": null,
   "metadata": {},
   "outputs": [],
   "source": [
    "ratings = (dataset\n",
    "           .map(lambda rating: {'user_id': rating[0],'Area_Code':rating[1],'SalesDocumentType':rating[2],'Customer_Type':rating[3],'city_name':rating[4],'OfficeBk':rating[5],'ClassBk':rating[6]})\n",
    "           .cache(tempfile.NamedTemporaryFile().name)\n",
    ")"
   ]
  },
  {
   "cell_type": "code",
   "execution_count": null,
   "metadata": {},
   "outputs": [],
   "source": [
    "tf.random.set_seed(42)\n",
    "shuffled = ratings.shuffle(11008 , seed=42, reshuffle_each_iteration=False)\n",
    "\n",
    "train = shuffled.take(11008)\n"
   ]
  },
  {
   "cell_type": "code",
   "execution_count": null,
   "metadata": {},
   "outputs": [],
   "source": [
    "l=[]\n",
    "for i in range(11008):\n",
    "    l1=[]\n",
    "    # index = tfrs.layers.factorized_top_k.BruteForce(model.user_model,100)\n",
    "    # # recommends movies out of the entire movies dataset.\n",
    "    # index.index_from_dataset(\n",
    "    #   tf.data.Dataset.zip((products.batch(100), products.batch(100).map(product_model)))\n",
    "    # )\n",
    "    brute_force_layer = tfrs.layers.factorized_top_k.BruteForce(k=150)\n",
    "    brute_force_layer.index_from_dataset(\n",
    "      tf.data.Dataset.zip((products.batch(100), products.batch(100).map(product_model)))\n",
    "    )\n",
    "\n",
    "    cached_test = train.batch(1)\n",
    "\n",
    "    test_sample = cached_test.skip(i).take(1)\n",
    "    test_sample_map = test_sample.map(\n",
    "            lambda features: tf.concat([model.user_model(features[\"user_id\"]), model.user_model1(features[\"Area_Code\"]),model.user_model2(features[\"SalesDocumentType\"]),model.user_model3(features[\"Customer_Type\"]), model.user_model4(features[\"city_name\"]), model.user_model5(features[\"OfficeBk\"]), model.user_model6(features[\"ClassBk\"])], axis=1)\n",
    "        )\n",
    "\n",
    "    test_sample_map_arr = []\n",
    "    for item in test_sample_map.take(1).as_numpy_iterator():\n",
    "        test_sample_map_arr.append(item[0])\n",
    "    test_sample_map_arr = np.array(test_sample_map_arr)\n",
    "\n",
    "    afinity_scores, a = brute_force_layer(test_sample_map_arr)\n",
    "\n",
    "    for item in test_sample.as_numpy_iterator():\n",
    "        print(f\"Recommendations for user {item['user_id']} using BruteForce: {i}\")\n",
    "        # ppp = 1\n",
    "\n",
    "    l1.append(int(item['user_id']))\n",
    "    # Get recommendations.\n",
    "    # _, titles = index(tf.constant([i]))\n",
    "    z=list(a[0, :150].numpy())\n",
    "    for j in z:\n",
    "        l1.append(int(j))\n",
    "        \n",
    "    l.append(l1)"
   ]
  },
  {
   "cell_type": "code",
   "execution_count": null,
   "metadata": {},
   "outputs": [],
   "source": [
    "len(l)"
   ]
  },
  {
   "cell_type": "code",
   "execution_count": null,
   "metadata": {},
   "outputs": [],
   "source": [
    "dd1=pd.DataFrame(l)"
   ]
  },
  {
   "cell_type": "code",
   "execution_count": null,
   "metadata": {},
   "outputs": [],
   "source": [
    "dd1"
   ]
  },
  {
   "cell_type": "code",
   "execution_count": null,
   "metadata": {},
   "outputs": [],
   "source": [
    "dd1.to_csv('part3.csv')"
   ]
  },
  {
   "cell_type": "code",
   "execution_count": null,
   "metadata": {},
   "outputs": [],
   "source": []
  },
  {
   "cell_type": "code",
   "execution_count": null,
   "metadata": {},
   "outputs": [],
   "source": []
  },
  {
   "cell_type": "code",
   "execution_count": null,
   "metadata": {},
   "outputs": [],
   "source": [
    "dff1 = pd.read_csv('part1.csv')"
   ]
  },
  {
   "cell_type": "code",
   "execution_count": null,
   "metadata": {},
   "outputs": [],
   "source": [
    "dff2 = pd.read_csv('part2.csv')"
   ]
  },
  {
   "cell_type": "code",
   "execution_count": null,
   "metadata": {},
   "outputs": [],
   "source": [
    "dff3 = pd.read_csv('part3.csv')"
   ]
  },
  {
   "cell_type": "code",
   "execution_count": null,
   "metadata": {},
   "outputs": [],
   "source": [
    "dff4 = pd.read_csv('part4.csv')"
   ]
  },
  {
   "cell_type": "code",
   "execution_count": null,
   "metadata": {},
   "outputs": [],
   "source": [
    "dff5 = pd.read_csv('part5.csv')"
   ]
  },
  {
   "cell_type": "code",
   "execution_count": null,
   "metadata": {},
   "outputs": [],
   "source": [
    "dff5=pd.concat([dff1, dff2,dff3,dff4,dff5])\n",
    "dff5=dff5.reset_index()\n",
    "dff5=dff5.iloc[:,1:]\n"
   ]
  },
  {
   "cell_type": "code",
   "execution_count": null,
   "metadata": {},
   "outputs": [],
   "source": [
    "dff5"
   ]
  },
  {
   "cell_type": "code",
   "execution_count": null,
   "metadata": {},
   "outputs": [],
   "source": [
    "dff5=dff5.iloc[:,1:]"
   ]
  },
  {
   "cell_type": "code",
   "execution_count": null,
   "metadata": {},
   "outputs": [],
   "source": [
    "dff5"
   ]
  },
  {
   "cell_type": "code",
   "execution_count": null,
   "metadata": {},
   "outputs": [],
   "source": [
    "dff5.to_csv('kalan_final.csv')"
   ]
  },
  {
   "cell_type": "code",
   "execution_count": null,
   "metadata": {},
   "outputs": [],
   "source": []
  },
  {
   "cell_type": "code",
   "execution_count": null,
   "metadata": {},
   "outputs": [],
   "source": []
  }
 ],
 "metadata": {
  "colab": {
   "collapsed_sections": [],
   "name": "code1.ipynb",
   "private_outputs": true,
   "provenance": []
  },
  "kernelspec": {
   "display_name": "Python 3 (ipykernel)",
   "language": "python",
   "name": "python3"
  },
  "language_info": {
   "codemirror_mode": {
    "name": "ipython",
    "version": 3
   },
   "file_extension": ".py",
   "mimetype": "text/x-python",
   "name": "python",
   "nbconvert_exporter": "python",
   "pygments_lexer": "ipython3",
   "version": "3.9.13"
  }
 },
 "nbformat": 4,
 "nbformat_minor": 4
}
